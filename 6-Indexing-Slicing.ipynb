{
 "cells": [
  {
   "cell_type": "markdown",
   "id": "0c606c9d-3997-449d-9cb9-c836e1f2d7cd",
   "metadata": {},
   "source": [
    "# INDEXLEMEDE []   KULLANILIR\n",
    "# STRİNGLERDE DE KULLANILIR İNDEXLEME İÇİN iTERRABLE OLMASI GEREKİR.\n",
    "# negatif indexlemede sadan sola gider (-1 den başlar yani ensondan)\n",
    "\"O  r  a  n  g  e\"\n",
    "-6 -5 -4 -3 -2 -1"
   ]
  },
  {
   "cell_type": "code",
   "execution_count": 7,
   "id": "28dcfb8c-dfdf-4fe0-8b80-acc30aba999f",
   "metadata": {},
   "outputs": [
    {
     "data": {
      "text/plain": [
       "'a'"
      ]
     },
     "execution_count": 7,
     "metadata": {},
     "output_type": "execute_result"
    }
   ],
   "source": [
    "\"orange\"[-4]"
   ]
  },
  {
   "cell_type": "code",
   "execution_count": null,
   "id": "6fb2f315-ed05-42da-a7fa-cf4aad6bb64d",
   "metadata": {},
   "outputs": [],
   "source": [
    "#ran i almak için"
   ]
  },
  {
   "cell_type": "code",
   "execution_count": 12,
   "id": "7f25e8ae-7347-406c-9320-ee4cc4c127f9",
   "metadata": {},
   "outputs": [
    {
     "data": {
      "text/plain": [
       "'ran'"
      ]
     },
     "execution_count": 12,
     "metadata": {},
     "output_type": "execute_result"
    }
   ],
   "source": [
    "\"orange\"[-5:-2:]"
   ]
  },
  {
   "cell_type": "code",
   "execution_count": null,
   "id": "7b14ac31-166e-4023-bf98-2af302ee866d",
   "metadata": {},
   "outputs": [],
   "source": [
    "# Step - (negatif) olursa sağdan sola gidilir"
   ]
  },
  {
   "cell_type": "code",
   "execution_count": 13,
   "id": "ce945031-e77d-4e25-80cf-a4dc40c7a224",
   "metadata": {},
   "outputs": [
    {
     "data": {
      "text/plain": [
       "'egnaro'"
      ]
     },
     "execution_count": 13,
     "metadata": {},
     "output_type": "execute_result"
    }
   ],
   "source": [
    "\"orange\"[::-1] # tersten yazdırmıs olduk"
   ]
  },
  {
   "cell_type": "code",
   "execution_count": 1,
   "id": "ad13615a-c147-455d-88af-ffdf3e0600f4",
   "metadata": {},
   "outputs": [],
   "source": [
    "city = \"Phoenix\""
   ]
  },
  {
   "cell_type": "code",
   "execution_count": 27,
   "id": "84cd93fe-52f0-47db-83e9-401dff656af8",
   "metadata": {},
   "outputs": [
    {
     "name": "stdout",
     "output_type": "stream",
     "text": [
      "hoenix\n",
      "Phoeni\n",
      "Ponx\n",
      "hei\n",
      "nix\n",
      "xineohP\n"
     ]
    }
   ],
   "source": [
    "print(city[1:])\n",
    "print(city[:6])\n",
    "print(city[::2])\n",
    "print(city[1::2])\n",
    "print(city[-3:])\n",
    "print(city[::-1])"
   ]
  },
  {
   "cell_type": "code",
   "execution_count": 14,
   "id": "d0504f74-0513-484c-9f06-a9d76f02fbbd",
   "metadata": {},
   "outputs": [
    {
     "data": {
      "text/plain": [
       "'gna'"
      ]
     },
     "execution_count": 14,
     "metadata": {},
     "output_type": "execute_result"
    }
   ],
   "source": [
    "\"orange\"[-2:-5:-1] # negatif indexleme negatif step "
   ]
  },
  {
   "cell_type": "code",
   "execution_count": 25,
   "id": "143f24b0-87dd-4b38-95c1-18378fef0d1f",
   "metadata": {},
   "outputs": [
    {
     "data": {
      "text/plain": [
       "'gna'"
      ]
     },
     "execution_count": 25,
     "metadata": {},
     "output_type": "execute_result"
    }
   ],
   "source": [
    "\"orange\"[4:1:-1]   # pozitif indexleme negatif step "
   ]
  },
  {
   "cell_type": "code",
   "execution_count": 29,
   "id": "0e2cc5aa-ab5f-4c3c-a7b4-3cdd1483bedb",
   "metadata": {},
   "outputs": [
    {
     "data": {
      "text/plain": [
       "''"
      ]
     },
     "execution_count": 29,
     "metadata": {},
     "output_type": "execute_result"
    }
   ],
   "source": [
    "\"orange\"[4:1]  # pozitifele geriye gidemeyiz"
   ]
  },
  {
   "cell_type": "code",
   "execution_count": 30,
   "id": "254c12bf-60f1-46d0-a2bd-7b7188edc20b",
   "metadata": {},
   "outputs": [
    {
     "data": {
      "text/plain": [
       "''"
      ]
     },
     "execution_count": 30,
     "metadata": {},
     "output_type": "execute_result"
    }
   ],
   "source": [
    "\"orange\"[-3:-6] # soldan sağa pozitif steple gidemeyiz"
   ]
  },
  {
   "cell_type": "code",
   "execution_count": 31,
   "id": "8cc78753-be5d-4351-8604-b3c8c891cfb6",
   "metadata": {},
   "outputs": [
    {
     "data": {
      "text/plain": [
       "'gna'"
      ]
     },
     "execution_count": 31,
     "metadata": {},
     "output_type": "execute_result"
    }
   ],
   "source": [
    "\"orange\"[4:1 :-1] # 29. satırı bu şekilde yaparsak cıktı alabılırız."
   ]
  },
  {
   "cell_type": "code",
   "execution_count": 32,
   "id": "57890ea1-f42c-46cf-a7af-e14d0887ba09",
   "metadata": {},
   "outputs": [
    {
     "data": {
      "text/plain": [
       "'nar'"
      ]
     },
     "execution_count": 32,
     "metadata": {},
     "output_type": "execute_result"
    }
   ],
   "source": [
    "\"orange\"[-3:-6:-1] # 30. satırı bu sekılde yaparsak cıktı alırız"
   ]
  },
  {
   "cell_type": "code",
   "execution_count": 28,
   "id": "5751371f-abfb-4e71-b8e4-b929a16338b1",
   "metadata": {},
   "outputs": [
    {
     "name": "stdout",
     "output_type": "stream",
     "text": [
      "ippopotamus\n",
      "hippop\n",
      "hpooau\n",
      "ipp\n",
      "mus\n",
      "sumatopoppih\n"
     ]
    }
   ],
   "source": [
    "animal = \"hippopotamus\"\n",
    "print(animal[1:])  \n",
    "print(animal[:6])\n",
    "print(animal[::2])\n",
    "print(animal[1:7:2])\n",
    "print(animal[-3:])\n",
    "print(animal[::-1])"
   ]
  },
  {
   "cell_type": "code",
   "execution_count": 33,
   "id": "bfdbd35f-2fe1-4962-bd5f-ef8a4be09867",
   "metadata": {},
   "outputs": [
    {
     "data": {
      "text/plain": [
       "6"
      ]
     },
     "execution_count": 33,
     "metadata": {},
     "output_type": "execute_result"
    }
   ],
   "source": [
    "len(\"orange\") # len() iterablın uzunlugunu verir"
   ]
  },
  {
   "cell_type": "markdown",
   "id": "1dbb4735-c88a-46e5-8c5d-3483962a23ff",
   "metadata": {},
   "source": [
    "### STRİNG FORMATTİNG WİTH ARİTHMETİC SYNTAX + = * "
   ]
  },
  {
   "cell_type": "code",
   "execution_count": null,
   "id": "9d1d7b9a-82aa-407c-bc11-0a3a1d133f0a",
   "metadata": {},
   "outputs": [],
   "source": [
    "# + CONCATNATE \n"
   ]
  },
  {
   "cell_type": "code",
   "execution_count": 43,
   "id": "7744bac2-1621-4972-86a9-d2e40211b15b",
   "metadata": {},
   "outputs": [
    {
     "name": "stdout",
     "output_type": "stream",
     "text": [
      "uppercase\n",
      "uppercase\n",
      "upperupperupper casecasecase\n",
      "upperupperupper casecasecase\n",
      "upperupperupper casecasecase\n"
     ]
    }
   ],
   "source": [
    "a = \"upper\"\n",
    "b = \"case\"\n",
    "c = a*3\n",
    "d = b*3\n",
    "print(a+b)\n",
    "print(\"upper\" + \"case\")  # stringleri birleştirdik.concatnate yaptık\n",
    "print(3 * a, 3 * b)      # 3 defa yazdırdık\n",
    "print(3 * \"upper\", 3* \"case\")\n",
    "print(c,d)"
   ]
  },
  {
   "cell_type": "markdown",
   "id": "7be45255-396b-449f-8a2a-f51fbc1bbbe0",
   "metadata": {},
   "source": [
    "### * İTERABL ELAMANLARINA AYIRIR ARASINA SPACE KOYUYOR GİBİ"
   ]
  },
  {
   "cell_type": "code",
   "execution_count": 46,
   "id": "ae148f4d-91ad-45e7-b9a6-fd84d863af7b",
   "metadata": {},
   "outputs": [
    {
     "name": "stdout",
     "output_type": "stream",
     "text": [
      "c l a r u s w a y\n"
     ]
    }
   ],
   "source": [
    "print(* \"clarusway\") # * iterablı elamanlarına ayırır"
   ]
  },
  {
   "cell_type": "code",
   "execution_count": 50,
   "id": "04da01c0-cfa5-422c-b3cd-d4ace2536c00",
   "metadata": {},
   "outputs": [
    {
     "name": "stdout",
     "output_type": "stream",
     "text": [
      "9\n"
     ]
    }
   ],
   "source": [
    "print(len(\"clarusway\"))"
   ]
  },
  {
   "cell_type": "code",
   "execution_count": 51,
   "id": "6018f23c-5495-4f6a-8f86-58e0e34a7686",
   "metadata": {},
   "outputs": [
    {
     "ename": "TypeError",
     "evalue": "len() takes exactly one argument (9 given)",
     "output_type": "error",
     "traceback": [
      "\u001b[1;31m---------------------------------------------------------------------------\u001b[0m",
      "\u001b[1;31mTypeError\u001b[0m                                 Traceback (most recent call last)",
      "\u001b[1;32m<ipython-input-51-8cf83d1c9b63>\u001b[0m in \u001b[0;36m<module>\u001b[1;34m\u001b[0m\n\u001b[1;32m----> 1\u001b[1;33m \u001b[0mprint\u001b[0m\u001b[1;33m(\u001b[0m\u001b[0mlen\u001b[0m\u001b[1;33m(\u001b[0m\u001b[1;33m*\u001b[0m\u001b[1;34m\"clarusway\"\u001b[0m\u001b[1;33m)\u001b[0m\u001b[1;33m)\u001b[0m\u001b[1;33m\u001b[0m\u001b[1;33m\u001b[0m\u001b[0m\n\u001b[0m",
      "\u001b[1;31mTypeError\u001b[0m: len() takes exactly one argument (9 given)"
     ]
    }
   ],
   "source": [
    "print(len(*\"clarusway\"))  ### bu hataya dikkat et"
   ]
  },
  {
   "cell_type": "code",
   "execution_count": 56,
   "id": "c2a191b3-72ee-4025-996d-f66cc3121e3d",
   "metadata": {},
   "outputs": [
    {
     "name": "stdout",
     "output_type": "stream",
     "text": [
      "uppcas\n"
     ]
    }
   ],
   "source": [
    "str_one = \"upp\"\n",
    "str_one += \"cas\"\n",
    "print(str_one)"
   ]
  },
  {
   "cell_type": "code",
   "execution_count": 57,
   "id": "6839b307-6089-4e51-af45-3aa63c70637d",
   "metadata": {},
   "outputs": [
    {
     "name": "stdout",
     "output_type": "stream",
     "text": [
      "uppcasletter\n"
     ]
    }
   ],
   "source": [
    "str_one += \"letter\"\n",
    "print(str_one)"
   ]
  },
  {
   "cell_type": "code",
   "execution_count": 58,
   "id": "d258105d-0637-4d63-b883-578e4a24f454",
   "metadata": {},
   "outputs": [
    {
     "name": "stdout",
     "output_type": "stream",
     "text": [
      "uppcasletterend\n"
     ]
    }
   ],
   "source": [
    "str_one +=\"end\"\n",
    "print(str_one)"
   ]
  },
  {
   "cell_type": "code",
   "execution_count": 62,
   "id": "cc4e781e-a5f0-4518-b729-c9df63187a4a",
   "metadata": {},
   "outputs": [
    {
     "data": {
      "text/plain": [
       "'ahmetahmetahmet'"
      ]
     },
     "execution_count": 62,
     "metadata": {},
     "output_type": "execute_result"
    }
   ],
   "source": [
    "x= \"ahmet\"\n",
    "x *=3\n",
    "x"
   ]
  },
  {
   "cell_type": "code",
   "execution_count": null,
   "id": "1c094f14-8612-4345-bfe9-a5ac2e11be92",
   "metadata": {},
   "outputs": [],
   "source": [
    "### KAHOOT SORULARI"
   ]
  },
  {
   "cell_type": "code",
   "execution_count": 66,
   "id": "91e74302-f883-4b54-928c-ae1187751fb7",
   "metadata": {},
   "outputs": [
    {
     "name": "stdout",
     "output_type": "stream",
     "text": [
      "Clarus\t Way\n"
     ]
    }
   ],
   "source": [
    "word = 'Clarus'\n",
    "word += '\\t Way'\n",
    "print(word)"
   ]
  },
  {
   "cell_type": "code",
   "execution_count": 71,
   "id": "f0000656-1b98-4759-bc27-e9e07df3d51f",
   "metadata": {},
   "outputs": [
    {
     "name": "stdout",
     "output_type": "stream",
     "text": [
      "ah\n",
      "met\n"
     ]
    }
   ],
   "source": [
    "\"ahmet\"\n",
    "print(\"ah\\nmet\")"
   ]
  },
  {
   "cell_type": "code",
   "execution_count": 72,
   "id": "d4f97342-acc0-4c25-850a-b6837fa7fa44",
   "metadata": {},
   "outputs": [
    {
     "name": "stdout",
     "output_type": "stream",
     "text": [
      "I ate apple and spinach\n"
     ]
    }
   ],
   "source": [
    "fruit= \"apple\"\n",
    "veget = \"spinach\"\n",
    "print(\"I ate {} and {}\".format(fruit,veget))"
   ]
  },
  {
   "cell_type": "code",
   "execution_count": 76,
   "id": "4e09b708-ab7c-4ff1-a1a4-f3e37542e540",
   "metadata": {},
   "outputs": [
    {
     "name": "stdout",
     "output_type": "stream",
     "text": [
      "We bought apple and spinach\n"
     ]
    }
   ],
   "source": [
    "output = f\"We bought {fruit} and {veget}\"\n",
    "print(output)"
   ]
  },
  {
   "cell_type": "code",
   "execution_count": 77,
   "id": "11703cb4-9898-4f66-97da-86a3d3804b68",
   "metadata": {},
   "outputs": [
    {
     "name": "stdout",
     "output_type": "stream",
     "text": [
      "I ate {}.format(frus)\n"
     ]
    }
   ],
   "source": [
    "frus = 'banana'\n",
    "print('I ate {}.format(frus)')  ## YANILTICI SORU  (TIRNAK ICINE YAZILAN HERSEY STRING)"
   ]
  },
  {
   "cell_type": "code",
   "execution_count": 78,
   "id": "07365445-fff9-46ea-a654-c9e07c48ba4f",
   "metadata": {},
   "outputs": [
    {
     "ename": "SyntaxError",
     "evalue": "invalid syntax (<ipython-input-78-9f0683ac6c3e>, line 2)",
     "output_type": "error",
     "traceback": [
      "\u001b[1;36m  File \u001b[1;32m\"<ipython-input-78-9f0683ac6c3e>\"\u001b[1;36m, line \u001b[1;32m2\u001b[0m\n\u001b[1;33m    print('I love {}.'format(veg))\u001b[0m\n\u001b[1;37m                      ^\u001b[0m\n\u001b[1;31mSyntaxError\u001b[0m\u001b[1;31m:\u001b[0m invalid syntax\n"
     ]
    }
   ],
   "source": [
    "veg = 'Onion'\n",
    "print('I love {}.'format(veg))  # string . (nokta) sonrada format methodu"
   ]
  },
  {
   "cell_type": "markdown",
   "id": "0bd9486f-da4a-44c0-ba63-dee7b49433c8",
   "metadata": {},
   "source": [
    "### STRING FORMAT\n",
    "\n",
    "'string {} string {} string'. format(data1,data2) ### index numaralarıylada olur data1 in indexi : 0-----data 2 nın ındexi 1"
   ]
  },
  {
   "cell_type": "code",
   "execution_count": 79,
   "id": "9094d5ce-2ef2-4637-896c-62ae18ac04ad",
   "metadata": {},
   "outputs": [
    {
     "name": "stdout",
     "output_type": "stream",
     "text": [
      "California is the most crowded state of the USA\n"
     ]
    }
   ],
   "source": [
    "print('{state} is the most {adjective} state of the {country}'.format(state='California', country='USA', adjective='crowded'))"
   ]
  },
  {
   "cell_type": "code",
   "execution_count": 80,
   "id": "d6d570b1-f251-4650-89da-f6791a9e17bb",
   "metadata": {},
   "outputs": [],
   "source": [
    "state = \"California\"\n",
    "country =\"USA\"\n",
    "adjective = \"crowded\""
   ]
  },
  {
   "cell_type": "code",
   "execution_count": 89,
   "id": "7f04be18-a72d-4c77-83a3-73468d3f0e2c",
   "metadata": {},
   "outputs": [
    {
     "name": "stdout",
     "output_type": "stream",
     "text": [
      "California is the most USA state of the crowded\n"
     ]
    }
   ],
   "source": [
    "print(\"{} is the most {} state of the {}\".\\\n",
    "     format(state,country,adjective))    #indexe göre attı değişken tanımladık \n",
    "                                        # ama positional olduguna göre böyle geldi"
   ]
  },
  {
   "cell_type": "code",
   "execution_count": 90,
   "id": "cd4654d4-69eb-407c-9c41-9ce6365b4d8d",
   "metadata": {},
   "outputs": [
    {
     "name": "stdout",
     "output_type": "stream",
     "text": [
      "California is the most crowded state of the USA\n"
     ]
    }
   ],
   "source": [
    "print(\"{0} is the most {2} state of the {1}\".\\\n",
    "        format(state,country,adjective))     #ındexle yaptık"
   ]
  },
  {
   "cell_type": "code",
   "execution_count": 83,
   "id": "3b8730a8-ab6f-44ff-b1c3-86fd4b11a5b5",
   "metadata": {},
   "outputs": [
    {
     "name": "stdout",
     "output_type": "stream",
     "text": [
      "ahmet - mehmet\n"
     ]
    }
   ],
   "source": [
    "print(\"{} - {}\". format(\"ahmet\", \"mehmet\")) # positional geldi"
   ]
  },
  {
   "cell_type": "code",
   "execution_count": 85,
   "id": "d877a54b-9f3d-44f4-a092-e3feef8e9311",
   "metadata": {},
   "outputs": [
    {
     "name": "stdout",
     "output_type": "stream",
     "text": [
      "mehmet - ahmet\n"
     ]
    }
   ],
   "source": [
    "print(\"{1} - {0}\". format(\"ahmet\", \"mehmet\")) # indexle geldi geldi"
   ]
  },
  {
   "cell_type": "code",
   "execution_count": null,
   "id": "bf673213-ac47-49f5-97af-715907366e2b",
   "metadata": {},
   "outputs": [],
   "source": [
    "# positional arg  keyword arg den once gelir\n",
    "önce gelir "
   ]
  },
  {
   "cell_type": "code",
   "execution_count": 91,
   "id": "695deb9b-f0e3-46e8-8041-994e8c8e1dbd",
   "metadata": {},
   "outputs": [
    {
     "ename": "IndexError",
     "evalue": "Replacement index 2 out of range for positional args tuple",
     "output_type": "error",
     "traceback": [
      "\u001b[1;31m---------------------------------------------------------------------------\u001b[0m",
      "\u001b[1;31mIndexError\u001b[0m                                Traceback (most recent call last)",
      "\u001b[1;32m<ipython-input-91-b25f3f43397d>\u001b[0m in \u001b[0;36m<module>\u001b[1;34m\u001b[0m\n\u001b[1;32m----> 1\u001b[1;33m print(\"{} is the most {} state of the {}\".\\\n\u001b[0m\u001b[0;32m      2\u001b[0m      format(\"USA\", \"California\", adjective = \"crowded\"))\n",
      "\u001b[1;31mIndexError\u001b[0m: Replacement index 2 out of range for positional args tuple"
     ]
    }
   ],
   "source": [
    "print(\"{} is the most {} state of the {}\".\\\n",
    "     format(\"USA\", \"California\", adjective = \"crowded\"))"
   ]
  },
  {
   "cell_type": "code",
   "execution_count": 97,
   "id": "185946a8-b474-42c9-a9d1-07eb76c699d3",
   "metadata": {},
   "outputs": [
    {
     "name": "stdout",
     "output_type": "stream",
     "text": [
      "USA is the most crowded state of the California\n"
     ]
    }
   ],
   "source": [
    "print(\"{} is the most {adjective} state of the {}\".\\\n",
    "     format (\"USA\",\"California\",adjective = \"crowded\")) #possitns keyword den önce ggelmeeli\n",
    "\n",
    "#### usa ve califoornıa  positional---- adj=crowded  keywoord  arg"
   ]
  },
  {
   "cell_type": "code",
   "execution_count": 110,
   "id": "c2258cae-c1a1-4374-b416-7d25720c4244",
   "metadata": {},
   "outputs": [
    {
     "ename": "SyntaxError",
     "evalue": "positional argument follows keyword argument (<ipython-input-110-f74be9ee74b7>, line 1)",
     "output_type": "error",
     "traceback": [
      "\u001b[1;36m  File \u001b[1;32m\"<ipython-input-110-f74be9ee74b7>\"\u001b[1;36m, line \u001b[1;32m1\u001b[0m\n\u001b[1;33m    print(\"{}-{}-{}-{}\".format(x = \"b\",y = \"a\", \"i\",\"j\"))\u001b[0m\n\u001b[1;37m                                                       ^\u001b[0m\n\u001b[1;31mSyntaxError\u001b[0m\u001b[1;31m:\u001b[0m positional argument follows keyword argument\n"
     ]
    }
   ],
   "source": [
    "print(\"{}-{}-{}-{}\".format(x = \"b\",y = \"a\", \"i\",\"j\"))"
   ]
  },
  {
   "cell_type": "code",
   "execution_count": 112,
   "id": "6ed7dceb-21ea-49fd-a4e2-24e18fc7dd2d",
   "metadata": {},
   "outputs": [
    {
     "name": "stdout",
     "output_type": "stream",
     "text": [
      "1-b-a-j\n"
     ]
    }
   ],
   "source": [
    "print(\"{}-{k}-{z}-{}\".format(1, \"j\" , k = \"b\",  z = \"a\" )) ##integer 1 de   geecıktı alır"
   ]
  },
  {
   "cell_type": "code",
   "execution_count": 116,
   "id": "3d6d87ac-b429-4ce5-bdc6-9e22cec72a90",
   "metadata": {},
   "outputs": [
    {
     "name": "stdout",
     "output_type": "stream",
     "text": [
      "a-j-b-1\n"
     ]
    }
   ],
   "source": [
    "print(\"{z}-{1}-{k}-{0}\".format(1, \"j\" , k = \"b\",  z = \"a\" )) "
   ]
  },
  {
   "cell_type": "code",
   "execution_count": null,
   "id": "c5a01a97-44b8-43c8-af58-56fdd13d3c64",
   "metadata": {},
   "outputs": [],
   "source": []
  }
 ],
 "metadata": {
  "kernelspec": {
   "display_name": "Python 3",
   "language": "python",
   "name": "python3"
  },
  "language_info": {
   "codemirror_mode": {
    "name": "ipython",
    "version": 3
   },
   "file_extension": ".py",
   "mimetype": "text/x-python",
   "name": "python",
   "nbconvert_exporter": "python",
   "pygments_lexer": "ipython3",
   "version": "3.9.4"
  }
 },
 "nbformat": 4,
 "nbformat_minor": 5
}
