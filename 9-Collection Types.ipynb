{
 "cells": [
  {
   "cell_type": "markdown",
   "id": "e27faee2-9ed4-4c46-9b49-77790846645d",
   "metadata": {},
   "source": [
    "### COLLECTİON TYPES\n",
    "* LİST\n",
    "* TUPLE\n",
    "* DİCTİONARY\n",
    "* SET"
   ]
  },
  {
   "cell_type": "code",
   "execution_count": 5,
   "id": "85ef4d6d-e40b-4268-97e3-e541bbf38999",
   "metadata": {},
   "outputs": [
    {
     "name": "stdout",
     "output_type": "stream",
     "text": [
      "Aranan 3 değeri 4 pozisyonunda.\n"
     ]
    }
   ],
   "source": [
    "data = [1,2,4,-1,3,4,-5,1]\n",
    "i = 0\n",
    "aranan = 3\n",
    "\n",
    "bulduk = False\n",
    "while i<len(data) and not bulduk:\n",
    "    if data[i] == aranan:\n",
    "        bulduk = True\n",
    "    else:\n",
    "        i += 1\n",
    "\n",
    "if bulduk:\n",
    "    print(\"Aranan\", aranan, \"değeri\", i, \"pozisyonunda.\")\n",
    "else:\n",
    "    print(\"Bulamadık\")"
   ]
  },
  {
   "cell_type": "markdown",
   "id": "bf9f427e-a718-4602-b311-df50a1c2f73d",
   "metadata": {},
   "source": [
    "### LISTS  LISTS LISTS\n",
    "[]\n",
    "list()"
   ]
  },
  {
   "cell_type": "code",
   "execution_count": 12,
   "id": "e4a10cb6-392a-4fbf-bf13-a2e0fbbc93b4",
   "metadata": {},
   "outputs": [
    {
     "name": "stdout",
     "output_type": "stream",
     "text": [
      "['h', 'a', 'p', 'p', 'y']\n",
      "['h', 'a', 'p', 'p', 'y']\n"
     ]
    }
   ],
   "source": [
    "list1 = [\"h\",\"a\",\"p\",\"p\",\"y\"]\n",
    "word ='happy'\n",
    "list2 =list(word)\n",
    "print(list1)\n",
    "print(list2)\n"
   ]
  },
  {
   "cell_type": "code",
   "execution_count": 21,
   "id": "58a0ef81-1010-484b-b23f-1acdfa12c12d",
   "metadata": {},
   "outputs": [
    {
     "data": {
      "text/plain": [
       "['happy']"
      ]
     },
     "execution_count": 21,
     "metadata": {},
     "output_type": "execute_result"
    }
   ],
   "source": [
    "new=[word]\n",
    "new"
   ]
  },
  {
   "cell_type": "code",
   "execution_count": 14,
   "id": "c6b01cc6-149e-49ca-a317-982417ce0d3b",
   "metadata": {},
   "outputs": [
    {
     "data": {
      "text/plain": [
       "['1', '1', '1']"
      ]
     },
     "execution_count": 14,
     "metadata": {},
     "output_type": "execute_result"
    }
   ],
   "source": [
    "list(\"111\")"
   ]
  },
  {
   "cell_type": "code",
   "execution_count": 15,
   "id": "73e6c9af-04fb-4574-9fde-51bf56bba30f",
   "metadata": {},
   "outputs": [
    {
     "data": {
      "text/plain": [
       "'123pou.,ç'"
      ]
     },
     "execution_count": 15,
     "metadata": {},
     "output_type": "execute_result"
    }
   ],
   "source": [
    "a = \"123pou.,ç\"\n",
    "a"
   ]
  },
  {
   "cell_type": "code",
   "execution_count": 16,
   "id": "b7b0d058-cce3-4b2b-aab5-f8f65fcc97c0",
   "metadata": {},
   "outputs": [
    {
     "data": {
      "text/plain": [
       "['1', '2', '3', 'p', 'o', 'u', '.', ',', 'ç']"
      ]
     },
     "execution_count": 16,
     "metadata": {},
     "output_type": "execute_result"
    }
   ],
   "source": [
    "list(a)  \n",
    "### list( fonksıyonu teker teker elemanlarına ayırarak lıste yapıyor.\n",
    "### list( fonksıyonu teker teker elemanlarına ayırarak lıste yapıyor.\n",
    "### list( fonksıyonu teker teker elemanlarına ayırarak lıste yapıyor.\n",
    "### list( fonksıyonu teker teker elemanlarına ayırarak lıste yapıyor.\n",
    "### list( fonksıyonu teker teker elemanlarına ayırarak lıste yapıyor."
   ]
  },
  {
   "cell_type": "code",
   "execution_count": 20,
   "id": "3df8339b-6c3c-48f2-92be-6c61e3757caf",
   "metadata": {},
   "outputs": [
    {
     "name": "stdout",
     "output_type": "stream",
     "text": [
      "['123pou.,ç']\n"
     ]
    },
    {
     "data": {
      "text/plain": [
       "list"
      ]
     },
     "execution_count": 20,
     "metadata": {},
     "output_type": "execute_result"
    }
   ],
   "source": [
    "b=[a]\n",
    "print(b)\n",
    "type(b)"
   ]
  },
  {
   "cell_type": "code",
   "execution_count": 26,
   "id": "6ad3c278-2bf4-4311-9698-da0cada910bb",
   "metadata": {},
   "outputs": [
    {
     "name": "stdout",
     "output_type": "stream",
     "text": [
      "['I', ' ', 'q', 'u', 'i', 't', ' ', 's', 'm', 'o', 'k', 'i', 'n', 'g']\n",
      "['I quit smoking']\n"
     ]
    }
   ],
   "source": [
    "string1= \"I quit smoking\"\n",
    "string2 = list(string1)\n",
    "print(string2)\n",
    "yenistr = [string1]\n",
    "print(yenistr)\n"
   ]
  },
  {
   "cell_type": "code",
   "execution_count": 27,
   "id": "1a97dd9e-c54d-4cd2-8f03-6e59cf094407",
   "metadata": {},
   "outputs": [],
   "source": [
    "mixed_list = [11, \"joseph\", False, 3.14, None, [1,2,3]]"
   ]
  },
  {
   "cell_type": "code",
   "execution_count": 4,
   "id": "afce01a1-afed-4097-92b9-f17748422aaf",
   "metadata": {},
   "outputs": [
    {
     "name": "stdout",
     "output_type": "stream",
     "text": [
      "['Joseph', 'Clarusway', 2020]\n",
      "3\n",
      "[['Joseph', 'Clarusway', 2020]]\n",
      "1\n"
     ]
    }
   ],
   "source": [
    "my_list = [\"Joseph\", \"Clarusway\", 2020]\n",
    "new_list1 = list(my_list)  ### listeyi list() fonksiyonun içine sokunca \n",
    "new_list2 = [my_list]      ### gene tek tek elemanlarına ayırmıs oldu\n",
    "print(new_list1)\n",
    "print(len(new_list1))\n",
    "print(new_list2)\n",
    "print(len(new_list2))"
   ]
  },
  {
   "cell_type": "code",
   "execution_count": 10,
   "id": "4314318c-a1b9-4a92-8743-b2d0dff74a5b",
   "metadata": {},
   "outputs": [
    {
     "name": "stdout",
     "output_type": "stream",
     "text": [
      "['2', '0', '2', '0', \"'\", 's', ' ', 'h', 'a', 'r', 'd']\n",
      "[\"2020's hard\"]\n"
     ]
    }
   ],
   "source": [
    "string = \"2020's hard\"\n",
    "a = list(string)\n",
    "b = [string]\n",
    "print(a)\n",
    "print(b)"
   ]
  },
  {
   "cell_type": "code",
   "execution_count": null,
   "id": "be0be7b6-c047-448e-9471-7e42d444d373",
   "metadata": {},
   "outputs": [],
   "source": [
    "### BASİC OPERATİONS WİTH LİSTS"
   ]
  },
  {
   "cell_type": "markdown",
   "id": "69e90d32-a916-476e-ad1c-aee56f8a0fdf",
   "metadata": {},
   "source": [
    "### [] İÇİNİ DAHA SONRA DOLDURMAK İÇİN BOŞ LİST OLUŞTURURUZ\n",
    "# boşliste1 =[]\n",
    "# boşliste2 = list()\n",
    "\n",
    "listeler mutable stringler immutable (uzerine bir yontem uygulamadan değişemeyiz)\n",
    "ancak listeler yerinde değiştirilebilir"
   ]
  },
  {
   "cell_type": "markdown",
   "id": "0a5b0b2d-3221-4b9e-b3b8-0ad376335d93",
   "metadata": {},
   "source": [
    "### .append()  \n",
    "### .insert()\n",
    "### .remove()\n",
    "### .sort()   "
   ]
  },
  {
   "cell_type": "code",
   "execution_count": 2,
   "id": "3fac699d-c934-454b-b8e9-8f0509e01d53",
   "metadata": {},
   "outputs": [
    {
     "data": {
      "text/plain": [
       "[1, 4, 8, 7, 112]"
      ]
     },
     "execution_count": 2,
     "metadata": {},
     "output_type": "execute_result"
    }
   ],
   "source": [
    "numbers = [1,4,7]\n",
    "numbers.append(112)\n",
    "numbers.insert(2,8)  ### 2. indise 8 integerını ekledik. (-index de alabiliyor) \n",
    "                     ### insert() metodu 2 arguman alır\n",
    "numbers              ### listeler mutable. yerinde değişebildik"
   ]
  },
  {
   "cell_type": "code",
   "execution_count": 55,
   "id": "5c4a8cd5-c0c2-473d-b843-0efb0670a33a",
   "metadata": {},
   "outputs": [
    {
     "data": {
      "text/plain": [
       "[1, 4, 7, 112]"
      ]
     },
     "execution_count": 55,
     "metadata": {},
     "output_type": "execute_result"
    }
   ],
   "source": [
    "numbers.remove(8)  ### listenın ıcındekı 8 integer elemanını sil dedik sildi\n",
    "numbers"
   ]
  },
  {
   "cell_type": "markdown",
   "id": "a4ba5bd6-fb2c-43ba-a66e-18dc31e06cc0",
   "metadata": {},
   "source": [
    "### SORT()"
   ]
  },
  {
   "cell_type": "code",
   "execution_count": 60,
   "id": "36286db1-7896-430e-8c26-e12a5f76a5ee",
   "metadata": {},
   "outputs": [
    {
     "data": {
      "text/plain": [
       "[112, 7, 4, 1]"
      ]
     },
     "execution_count": 60,
     "metadata": {},
     "output_type": "execute_result"
    }
   ],
   "source": [
    "numbers.sort(reverse= 1)### SIRALAMA OPERATORU stringlerde de alfabetik sıralar\n",
    "numbers"
   ]
  },
  {
   "cell_type": "code",
   "execution_count": 66,
   "id": "7c73256f-e4c8-4aaa-8bf4-a7468ff224fb",
   "metadata": {},
   "outputs": [
    {
     "ename": "TypeError",
     "evalue": "'<' not supported between instances of 'int' and 'str'",
     "output_type": "error",
     "traceback": [
      "\u001b[1;31m---------------------------------------------------------------------------\u001b[0m",
      "\u001b[1;31mTypeError\u001b[0m                                 Traceback (most recent call last)",
      "\u001b[1;32m<ipython-input-66-4921c1bd0ce0>\u001b[0m in \u001b[0;36m<module>\u001b[1;34m\u001b[0m\n\u001b[0;32m      1\u001b[0m \u001b[0mkar\u001b[0m \u001b[1;33m=\u001b[0m \u001b[1;33m[\u001b[0m\u001b[1;34m\"d\"\u001b[0m\u001b[1;33m,\u001b[0m\u001b[1;36m1\u001b[0m \u001b[1;33m,\u001b[0m \u001b[1;34m\"a\"\u001b[0m\u001b[1;33m,\u001b[0m \u001b[1;36m2\u001b[0m\u001b[1;33m]\u001b[0m\u001b[1;33m\u001b[0m\u001b[1;33m\u001b[0m\u001b[0m\n\u001b[1;32m----> 2\u001b[1;33m \u001b[0mkar\u001b[0m\u001b[1;33m.\u001b[0m\u001b[0msort\u001b[0m\u001b[1;33m(\u001b[0m\u001b[1;33m)\u001b[0m\u001b[1;33m\u001b[0m\u001b[1;33m\u001b[0m\u001b[0m\n\u001b[0m\u001b[0;32m      3\u001b[0m \u001b[0mkar\u001b[0m\u001b[1;33m\u001b[0m\u001b[1;33m\u001b[0m\u001b[0m\n",
      "\u001b[1;31mTypeError\u001b[0m: '<' not supported between instances of 'int' and 'str'"
     ]
    }
   ],
   "source": [
    "### INTERVIEW QUESTIONS ###\n",
    "kar = [\"d\",1 , \"a\", 2]\n",
    "kar.sort()  ###sort farklı tipleri aynı anda sıralayamıyor. aynı tip olacak\n",
    "kar"
   ]
  },
  {
   "cell_type": "code",
   "execution_count": 62,
   "id": "4800184e-f32f-4e81-9158-79d89648eac2",
   "metadata": {},
   "outputs": [
    {
     "data": {
      "text/plain": [
       "[1, 4, 7, 9]"
      ]
     },
     "execution_count": 62,
     "metadata": {},
     "output_type": "execute_result"
    }
   ],
   "source": [
    "num = [4,1,9,7]\n",
    "num.sort()\n",
    "num"
   ]
  },
  {
   "cell_type": "code",
   "execution_count": 64,
   "id": "bf9bf001-7171-4211-b835-1e2b7dc68c96",
   "metadata": {},
   "outputs": [
    {
     "data": {
      "text/plain": [
       "[9, 7, 4, 1]"
      ]
     },
     "execution_count": 64,
     "metadata": {},
     "output_type": "execute_result"
    }
   ],
   "source": [
    "num.sort(reverse=True)  ### REVERSE DEFAULT DEGERI FALSE \n",
    "                        ### TRUE OLARAK DEĞİŞTİRDİK\n",
    "num"
   ]
  },
  {
   "cell_type": "code",
   "execution_count": 67,
   "id": "d7995044-ed69-42d7-be39-1ae0c55d7b01",
   "metadata": {},
   "outputs": [
    {
     "data": {
      "text/plain": [
       "['*-', '@', 'False']"
      ]
     },
     "execution_count": 67,
     "metadata": {},
     "output_type": "execute_result"
    }
   ],
   "source": [
    "listele = [\"@\",\"*-\",\"False\"]\n",
    "listele.sort()\n",
    "listele   ### ascıı kodlarına göre bu strınglerı sıralayabıldı"
   ]
  },
  {
   "cell_type": "markdown",
   "id": "cddc7b3d-3fda-44dc-99fa-8882a1378e02",
   "metadata": {},
   "source": [
    "### ord() ve chr()  fonksiyonları\n",
    "ord: bunlar stringlerin charecterlerin ascii kodlarını verir.\n",
    "chr : ascii kodun karakter karsılıgını verir"
   ]
  },
  {
   "cell_type": "code",
   "execution_count": 77,
   "id": "09ee0a34-2a2f-4184-83d7-cea17e30b2c0",
   "metadata": {},
   "outputs": [
    {
     "name": "stdout",
     "output_type": "stream",
     "text": [
      "42\n",
      "45\n",
      "64\n",
      "70\n"
     ]
    }
   ],
   "source": [
    "print(ord(\"*\"))\n",
    "print(ord(\"-\"))\n",
    "print(ord(\"@\"))\n",
    "print(ord(\"F\"))\n"
   ]
  },
  {
   "cell_type": "code",
   "execution_count": 71,
   "id": "bc4a63b6-a5a7-40a6-a07e-ac13b4af761e",
   "metadata": {},
   "outputs": [
    {
     "data": {
      "text/plain": [
       "'F'"
      ]
     },
     "execution_count": 71,
     "metadata": {},
     "output_type": "execute_result"
    }
   ],
   "source": [
    "chr(70)"
   ]
  },
  {
   "cell_type": "code",
   "execution_count": 73,
   "id": "ae94c239-59c6-4930-aa22-cb4677fc9f39",
   "metadata": {},
   "outputs": [
    {
     "data": {
      "text/plain": [
       "[False, True]"
      ]
     },
     "execution_count": 73,
     "metadata": {},
     "output_type": "execute_result"
    }
   ],
   "source": [
    "xx= [True, False]  ### True 1 False 0 oldugu ıcın kucukten buyuge False ,True\n",
    "xx.sort()\n",
    "xx"
   ]
  },
  {
   "cell_type": "code",
   "execution_count": 79,
   "id": "aaabf71d-a76d-4678-a656-22e6b9b8bc77",
   "metadata": {},
   "outputs": [
    {
     "data": {
      "text/plain": [
       "[[-12], [3], [44]]"
      ]
     },
     "execution_count": 79,
     "metadata": {},
     "output_type": "execute_result"
    }
   ],
   "source": [
    "list5 = [[3], [44], [-12]]\n",
    "list5.sort()\n",
    "list5"
   ]
  },
  {
   "cell_type": "code",
   "execution_count": 80,
   "id": "ca22eb7f-56c0-4ec2-b4ff-eaaac726a784",
   "metadata": {},
   "outputs": [
    {
     "data": {
      "text/plain": [
       "[[-12, 1], [1, 3], [44, 40]]"
      ]
     },
     "execution_count": 80,
     "metadata": {},
     "output_type": "execute_result"
    }
   ],
   "source": [
    "list6 = [[1,3], [44,40], [-12,1]]  ##iç listenın ilk elemanlarına göre sıralama yaptı\n",
    "list6.sort()\n",
    "list6"
   ]
  },
  {
   "cell_type": "code",
   "execution_count": 2,
   "id": "e43f0158-adf3-42a3-a4d5-f8c5e0bd9302",
   "metadata": {},
   "outputs": [
    {
     "data": {
      "text/plain": [
       "[[-1, 'iki'], [1, 'bir'], [3, 'üç']]"
      ]
     },
     "execution_count": 2,
     "metadata": {},
     "output_type": "execute_result"
    }
   ],
   "source": [
    "yy = [[1, \"bir\"],  [-1, \"iki\"],[3, \"üç\"]]\n",
    "yy.sort()\n",
    "yy    ###ilk elemanlarına göre sıraladı. \n",
    "      ### ilk elemanların hepsi integer aynı tip olduğu için sorun cıkmadı"
   ]
  },
  {
   "cell_type": "code",
   "execution_count": 4,
   "id": "9bf03148-dd38-4185-a6a4-88f3b34137b2",
   "metadata": {},
   "outputs": [
    {
     "data": {
      "text/plain": [
       "[[1, 'bir'], [1, 'iki'], [3, 'üç']]"
      ]
     },
     "execution_count": 4,
     "metadata": {},
     "output_type": "execute_result"
    }
   ],
   "source": [
    "yy1 = [[1, \"bir\"],  [1, \"iki\"],[3, \"üç\"]]\n",
    "yy1.sort()\n",
    "yy1     ###ilk elemanlarına göre sıraladı. \n",
    "      ### ilk elemanları aynı olunca2. elemana göre sıraladı"
   ]
  },
  {
   "cell_type": "code",
   "execution_count": 6,
   "id": "35141c44-7f50-4241-8a63-715d7304ec20",
   "metadata": {},
   "outputs": [
    {
     "ename": "TypeError",
     "evalue": "'<' not supported between instances of 'int' and 'str'",
     "output_type": "error",
     "traceback": [
      "\u001b[1;31m---------------------------------------------------------------------------\u001b[0m",
      "\u001b[1;31mTypeError\u001b[0m                                 Traceback (most recent call last)",
      "\u001b[1;32m<ipython-input-6-cc10bc0f5c89>\u001b[0m in \u001b[0;36m<module>\u001b[1;34m\u001b[0m\n\u001b[0;32m      1\u001b[0m \u001b[0myy2\u001b[0m \u001b[1;33m=\u001b[0m \u001b[1;33m[\u001b[0m\u001b[1;33m[\u001b[0m\u001b[1;36m1\u001b[0m\u001b[1;33m,\u001b[0m \u001b[1;34m\"bir\"\u001b[0m\u001b[1;33m]\u001b[0m\u001b[1;33m,\u001b[0m  \u001b[1;33m[\u001b[0m\u001b[1;36m1\u001b[0m\u001b[1;33m,\u001b[0m \u001b[1;36m3\u001b[0m\u001b[1;33m,\u001b[0m\u001b[1;34m\"iki\"\u001b[0m\u001b[1;33m,\u001b[0m\u001b[1;36m3\u001b[0m\u001b[1;33m]\u001b[0m\u001b[1;33m,\u001b[0m\u001b[1;33m[\u001b[0m\u001b[1;36m3\u001b[0m\u001b[1;33m,\u001b[0m \u001b[1;34m\"üç\"\u001b[0m\u001b[1;33m]\u001b[0m\u001b[1;33m]\u001b[0m\u001b[1;33m\u001b[0m\u001b[1;33m\u001b[0m\u001b[0m\n\u001b[1;32m----> 2\u001b[1;33m \u001b[0myy2\u001b[0m\u001b[1;33m.\u001b[0m\u001b[0msort\u001b[0m\u001b[1;33m(\u001b[0m\u001b[1;33m)\u001b[0m\u001b[1;33m\u001b[0m\u001b[1;33m\u001b[0m\u001b[0m\n\u001b[0m\u001b[0;32m      3\u001b[0m \u001b[0myy2\u001b[0m     \u001b[1;31m###ilk elemanlarına göre sıraladı.\u001b[0m\u001b[1;33m\u001b[0m\u001b[1;33m\u001b[0m\u001b[0m\n\u001b[0;32m      4\u001b[0m         \u001b[1;31m### ilk elemanları aynı olunca2. elemana göre sıraladı\u001b[0m\u001b[1;33m\u001b[0m\u001b[1;33m\u001b[0m\u001b[1;33m\u001b[0m\u001b[0m\n",
      "\u001b[1;31mTypeError\u001b[0m: '<' not supported between instances of 'int' and 'str'"
     ]
    }
   ],
   "source": [
    "yy2 = [[1, \"bir\"],  [1, 3,\"iki\",3],[3, \"üç\"]]\n",
    "yy2.sort()\n",
    "yy2     ###ilk elemanlarına göre sıraladı. \n",
    "        ### ilk elemanları aynı olunca2. elemana göre sıraladı"
   ]
  },
  {
   "cell_type": "code",
   "execution_count": 4,
   "id": "d483a859-7d05-4da6-b440-896de26689c0",
   "metadata": {},
   "outputs": [
    {
     "name": "stdout",
     "output_type": "stream",
     "text": [
      "[6666, 'Multiverse', [0]]\n",
      "['Firuz', 6666, 'Multiverse', [0]]\n"
     ]
    }
   ],
   "source": [
    "boş = []\n",
    "boş.append(6666)\n",
    "boş.append(\"Multiverse\")\n",
    "boş.append([0])\n",
    "print(boş)\n",
    "boş.insert(0,\"Firuz\")  ### 0. indexe Firuz string valuesunu atadık\n",
    "print(boş)"
   ]
  },
  {
   "cell_type": "code",
   "execution_count": 74,
   "id": "d3b524c5-c3b2-4ba7-bdbd-d324eb9293b3",
   "metadata": {},
   "outputs": [
    {
     "data": {
      "text/plain": [
       "(['[]'], ['coins', '5', 'Euros', '25'])"
      ]
     },
     "execution_count": 74,
     "metadata": {},
     "output_type": "execute_result"
    }
   ],
   "source": [
    "#### KAHOOT SORULARI\n",
    "a = ['[]']\n",
    "b = list(('coins','5', 'Euros','25'))  ## bu iki örnek de liste oluşturur. \n",
    "a,b"
   ]
  },
  {
   "cell_type": "markdown",
   "id": "055913cd-7fee-4b42-8f43-e58216bb6730",
   "metadata": {},
   "source": [
    "### insert () methodu append methodundan farklı olarak  \n",
    "### verilen indexe sahip elemanı silip kendi yerleşiyor"
   ]
  },
  {
   "cell_type": "code",
   "execution_count": 8,
   "id": "3f07a501-4186-452c-a863-4a0e8f3f40b3",
   "metadata": {},
   "outputs": [
    {
     "name": "stdout",
     "output_type": "stream",
     "text": [
      "['Los Angeles', 'İstanbul', 'Tokyo']\n"
     ]
    }
   ],
   "source": [
    "#### appenden farklı olarak verilen indexe sahip elemanı silip kendi yerleşiyor\n",
    "city= [\"Los Angeles\",\"Beirut\", \"Tokyo\"]\n",
    "city[1] = \"İstanbul\"\n",
    "print(city)"
   ]
  },
  {
   "cell_type": "code",
   "execution_count": 9,
   "id": "25003a53-5fc2-4179-a298-3e9aea42d7d5",
   "metadata": {},
   "outputs": [
    {
     "name": "stdout",
     "output_type": "stream",
     "text": [
      "['Los Angeles', 'S', 'e', 'o', 'u', 'l']\n"
     ]
    }
   ],
   "source": [
    "city= [\"Los Angeles\",\"Beirut\", \"Tokyo\"]\n",
    "city[1 : ] = \"Seoul\"\n",
    "print(city)\n",
    "#### ÖNEMLİ NOT : slicing var ise iterablın her bir elemanını sonuna kadar koyuyor\n",
    "#### burada 1. indexten başlattık seoulun her bir elemanını listenın elemanı haline getiriyor\n",
    "#### yeni elemanın uzunlugu kadar yanı seulun uzunlugu kadar"
   ]
  },
  {
   "cell_type": "code",
   "execution_count": 10,
   "id": "fe54f6b1-ce25-4709-9c1f-cc161592e7b7",
   "metadata": {},
   "outputs": [
    {
     "name": "stdout",
     "output_type": "stream",
     "text": [
      "['Los Angeles', 'Beirut', 'S', 'e', 'o', 'u', 'l']\n"
     ]
    }
   ],
   "source": [
    "city= [\"Los Angeles\",\"Beirut\", \"Tokyo\"]\n",
    "city[2 : ] = \"Seoul\"\n",
    "print(city)"
   ]
  },
  {
   "cell_type": "code",
   "execution_count": 12,
   "id": "5e36df58-9f8e-4209-95fa-6b51bd2cc34e",
   "metadata": {},
   "outputs": [
    {
     "data": {
      "text/plain": [
       "[True, 'beirut', 'tokyo']"
      ]
     },
     "execution_count": 12,
     "metadata": {},
     "output_type": "execute_result"
    }
   ],
   "source": [
    "city =[\"los\", \"beirut\",\"tokyo\"]\n",
    "city[0]= True\n",
    "city"
   ]
  },
  {
   "cell_type": "code",
   "execution_count": 17,
   "id": "858a3894-be4f-4349-b306-74c6897616cd",
   "metadata": {},
   "outputs": [
    {
     "data": {
      "text/plain": [
       "[True, 'c', 'l', 'a', 'r', 'u', 's']"
      ]
     },
     "execution_count": 17,
     "metadata": {},
     "output_type": "execute_result"
    }
   ],
   "source": [
    "city[1:] =\"clarus\"\n",
    "city"
   ]
  },
  {
   "cell_type": "code",
   "execution_count": 18,
   "id": "2dda366f-2ffc-44cf-92c9-785f83dd3024",
   "metadata": {},
   "outputs": [
    {
     "data": {
      "text/plain": [
       "[True, 'istanbul', 'seul']"
      ]
     },
     "execution_count": 18,
     "metadata": {},
     "output_type": "execute_result"
    }
   ],
   "source": [
    "city[1:]= \"istanbul\", \"seul\" #### sağ taraf tuple oldu. nurada 2 iterabl var tek tek aldı\n",
    "city                         ### yukarda clarusway tek eleman oldugu ıcın tek tek aldı"
   ]
  },
  {
   "cell_type": "code",
   "execution_count": 19,
   "id": "f39c3014-27f4-4ec5-b50a-99a2d1a22b28",
   "metadata": {},
   "outputs": [
    {
     "data": {
      "text/plain": [
       "[True, '2', '2']"
      ]
     },
     "execution_count": 19,
     "metadata": {},
     "output_type": "execute_result"
    }
   ],
   "source": [
    "city[1:]= \"22\"\n",
    "city"
   ]
  },
  {
   "cell_type": "code",
   "execution_count": 20,
   "id": "403c3af4-a9ff-4a74-960b-be59474ed37e",
   "metadata": {},
   "outputs": [],
   "source": [
    "city1 =[\"istanbul\", \"yozgat\",\"erzurum\", \"ankara\"]"
   ]
  },
  {
   "cell_type": "code",
   "execution_count": 25,
   "id": "c985f96e-7b97-49ba-bfe7-c53126f596ed",
   "metadata": {},
   "outputs": [
    {
     "data": {
      "text/plain": [
       "['a', 'b', 'c', 'ankara']"
      ]
     },
     "execution_count": 25,
     "metadata": {},
     "output_type": "execute_result"
    }
   ],
   "source": [
    "city1[0:2]=[\"a\",\"b\",\"c\"]  ### burdakı liste iterablı a,b,c yanı\n",
    "city1                     ### 0 ve 1. indexın yerine istediğimiz kadar eleman koyabılıyoruz"
   ]
  },
  {
   "cell_type": "code",
   "execution_count": 24,
   "id": "55b986e6-ccd2-468d-b3fd-fdc08d8e7d2c",
   "metadata": {},
   "outputs": [
    {
     "data": {
      "text/plain": [
       "['a', 'erzurum', 'ankara']"
      ]
     },
     "execution_count": 24,
     "metadata": {},
     "output_type": "execute_result"
    }
   ],
   "source": [
    "city1[0:2] =\"a\"  ## tek bir eleman oldugu ıcın sadece onu attı\n",
    "city1"
   ]
  },
  {
   "cell_type": "code",
   "execution_count": null,
   "id": "e611a75b-2325-4f37-bc47-c3ee67428f54",
   "metadata": {},
   "outputs": [],
   "source": [
    "## \\\\ 2 tane ters slaşı nasıl print alırız"
   ]
  },
  {
   "cell_type": "code",
   "execution_count": 26,
   "id": "d6ed8bba-225c-4ddd-b9a9-6398950bacb2",
   "metadata": {},
   "outputs": [
    {
     "name": "stdout",
     "output_type": "stream",
     "text": [
      "\\\\\n"
     ]
    }
   ],
   "source": [
    "print(\"\\\\\\\\\")"
   ]
  },
  {
   "cell_type": "code",
   "execution_count": 27,
   "id": "b6f0163a-2f51-4a9e-9597-6246bf23cbe2",
   "metadata": {},
   "outputs": [
    {
     "name": "stdout",
     "output_type": "stream",
     "text": [
      "\\\\\n"
     ]
    }
   ],
   "source": [
    "print(\"\\\\\"+ \"\\\\\")"
   ]
  },
  {
   "cell_type": "code",
   "execution_count": 31,
   "id": "f286f65e-fe14-47da-9136-86b0c90715d0",
   "metadata": {},
   "outputs": [
    {
     "name": "stdout",
     "output_type": "stream",
     "text": [
      "3 + 4'ün toplamı 7'dir.\n"
     ]
    }
   ],
   "source": [
    "a = 3\n",
    "b = 4\n",
    "print(\"{} + {}'ün toplamı {}'dir.\".format(a,b,a+b)) ## positional olarak gitti"
   ]
  },
  {
   "cell_type": "markdown",
   "id": "273b4678-fb94-44b1-a1fb-f2573fdf9657",
   "metadata": {},
   "source": [
    "### {} SÜSLÜ PARANTEZ İÇİ SEMİCOLON { : }"
   ]
  },
  {
   "cell_type": "code",
   "execution_count": 37,
   "id": "aadec139-465c-4304-b721-f8b5488e0a9f",
   "metadata": {},
   "outputs": [
    {
     "name": "stdout",
     "output_type": "stream",
     "text": [
      "3.15, 5.367, 7.3246\n"
     ]
    }
   ],
   "source": [
    "text = \"{:.2f}, {:.3f}, {:.4f}\".format(3.1463, 5.367, 7.324567) \n",
    "print(text) ### floatın noktadfan sonra kaç  karakter alacağını belirtir"
   ]
  },
  {
   "cell_type": "code",
   "execution_count": 38,
   "id": "c51e8d1a-8cf4-40ea-bdcd-f8240175ce49",
   "metadata": {},
   "outputs": [
    {
     "name": "stdout",
     "output_type": "stream",
     "text": [
      "3. - 5.3 - 7.32\n"
     ]
    }
   ],
   "source": [
    "text = \"{:.2s} - {:.3s} - {:.4s}\".format(\"3.1463\", \"5.367\", \"7.324567\") \n",
    "print(text)  ### stringden 2,3,4 karakter alıp cıktı verdi"
   ]
  },
  {
   "cell_type": "code",
   "execution_count": 53,
   "id": "6c5bc2be-b9fb-4503-bfb4-00eb77691cfe",
   "metadata": {},
   "outputs": [
    {
     "data": {
      "text/plain": [
       "'3.1463, 5.367, 7.32'"
      ]
     },
     "execution_count": 53,
     "metadata": {},
     "output_type": "execute_result"
    }
   ],
   "source": [
    "text8 = \"{:.5}, {:.5}, {:.3}\".format(3.1463, 5.367, 7.324567) \n",
    "text8  # burada ise 5 karakter al dedik.yukarda ıse ondalıklı bolumden kac adet alacagımızı belirttik"
   ]
  },
  {
   "cell_type": "code",
   "execution_count": 43,
   "id": "a6d603bc-e50e-46d4-b757-523b437037fc",
   "metadata": {},
   "outputs": [
    {
     "name": "stdout",
     "output_type": "stream",
     "text": [
      "20\n",
      "           clarusway\n"
     ]
    }
   ],
   "source": [
    "text3 = \"{:>20}\".format(\"clarusway\") ### 20 karakterlik alanda sağa yasladık\n",
    "text3\n",
    "print(len(text3))\n",
    "print(text3)"
   ]
  },
  {
   "cell_type": "code",
   "execution_count": 46,
   "id": "5ae6e724-5d1c-4024-b699-078c39c28e98",
   "metadata": {},
   "outputs": [
    {
     "name": "stdout",
     "output_type": "stream",
     "text": [
      "20\n",
      "clarusway           \n"
     ]
    },
    {
     "data": {
      "text/plain": [
       "'clarusway           '"
      ]
     },
     "execution_count": 46,
     "metadata": {},
     "output_type": "execute_result"
    }
   ],
   "source": [
    "text3 = \"{:<20}\".format(\"clarusway\") ### 20 karakterlik alanda sola yasladık\n",
    "text3\n",
    "print(len(text3))\n",
    "print(text3)  ### print kullanamsak sadece text3 yazsak tırnak da cıkıyor cıktıda\n",
    "text3"
   ]
  },
  {
   "cell_type": "code",
   "execution_count": 45,
   "id": "b06c6fae-7e5e-4d11-a59e-68795166c107",
   "metadata": {},
   "outputs": [
    {
     "name": "stdout",
     "output_type": "stream",
     "text": [
      "32\n",
      "formatlama       test formatlama\n"
     ]
    }
   ],
   "source": [
    "text4 = \"formatlama {:>10} formatlama\".format(\"test\") ### 20 karakterlik alanda sağa yasladık\n",
    "text4\n",
    "print(len(text4))\n",
    "print(text4)"
   ]
  },
  {
   "cell_type": "code",
   "execution_count": 47,
   "id": "7ee2b6a2-9346-4999-819d-90c958481bdc",
   "metadata": {},
   "outputs": [
    {
     "name": "stdout",
     "output_type": "stream",
     "text": [
      "22\n",
      " test       formatlama\n"
     ]
    }
   ],
   "source": [
    "text5 = \" {:<10} formatlama\".format(\"test\") ### 20 karakterlik alanda sağa yasladık\n",
    "text5\n",
    "print(len(text5))\n",
    "print(text5)"
   ]
  },
  {
   "cell_type": "code",
   "execution_count": 48,
   "id": "a7fb24b3-fabd-4057-bc0c-511ccaf8da83",
   "metadata": {},
   "outputs": [
    {
     "data": {
      "text/plain": [
       "'        test        '"
      ]
     },
     "execution_count": 48,
     "metadata": {},
     "output_type": "execute_result"
    }
   ],
   "source": [
    "\"{:^20}\".format(\"test\") ### test kelimesini ortaladı"
   ]
  },
  {
   "cell_type": "code",
   "execution_count": 49,
   "id": "3c812332-bfdf-490c-a04f-10e3d058b3f8",
   "metadata": {},
   "outputs": [
    {
     "data": {
      "text/plain": [
       "'formatlama         test         formatlama'"
      ]
     },
     "execution_count": 49,
     "metadata": {},
     "output_type": "execute_result"
    }
   ],
   "source": [
    " \"formatlama {:^20} formatlama\".format(\"test\")"
   ]
  },
  {
   "cell_type": "code",
   "execution_count": 50,
   "id": "eb986a14-b465-4fa2-8cb1-1cd39ba35eb7",
   "metadata": {},
   "outputs": [
    {
     "data": {
      "text/plain": [
       "'hippo'"
      ]
     },
     "execution_count": 50,
     "metadata": {},
     "output_type": "execute_result"
    }
   ],
   "source": [
    "\"{:.5}\".format(\"hippopotamus\")  ## s demeden de 5 karakterini aldık"
   ]
  },
  {
   "cell_type": "code",
   "execution_count": 51,
   "id": "1dd1fc7e-27c6-4a61-a611-d289584ae503",
   "metadata": {},
   "outputs": [
    {
     "data": {
      "text/plain": [
       "'hip       '"
      ]
     },
     "execution_count": 51,
     "metadata": {},
     "output_type": "execute_result"
    }
   ],
   "source": [
    "\"{:10.3}\".format(\"hippopotamus\") # 10 karakterlık boşluk açtı oraya da \n",
    "                                 # hippopotamusun 3. karakterini koydy  "
   ]
  },
  {
   "cell_type": "code",
   "execution_count": 52,
   "id": "b628501c-b1a8-4118-a312-227d2870cead",
   "metadata": {},
   "outputs": [
    {
     "data": {
      "text/plain": [
       "'       hip'"
      ]
     },
     "execution_count": 52,
     "metadata": {},
     "output_type": "execute_result"
    }
   ],
   "source": [
    "\"{:>10.3}\".format(\"hippopotamus\") # sağa yasla 10 karakter lık alanda 3. karakterını yazdır"
   ]
  },
  {
   "cell_type": "code",
   "execution_count": null,
   "id": "9996a1ff-de9b-462e-9592-88b578b27bc4",
   "metadata": {},
   "outputs": [],
   "source": []
  }
 ],
 "metadata": {
  "kernelspec": {
   "display_name": "Python 3",
   "language": "python",
   "name": "python3"
  },
  "language_info": {
   "codemirror_mode": {
    "name": "ipython",
    "version": 3
   },
   "file_extension": ".py",
   "mimetype": "text/x-python",
   "name": "python",
   "nbconvert_exporter": "python",
   "pygments_lexer": "ipython3",
   "version": "3.9.4"
  }
 },
 "nbformat": 4,
 "nbformat_minor": 5
}
