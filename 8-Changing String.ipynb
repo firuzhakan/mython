{
 "cells": [
  {
   "cell_type": "markdown",
   "id": "8c6d4248-d0dc-4676-8763-993137737c8c",
   "metadata": {},
   "source": [
    "### \n",
    "string.method(arguments)\n",
    "string objesi ve ya classı için su methodu kullan su parametrelerle argumanlarla)"
   ]
  },
  {
   "cell_type": "markdown",
   "id": "58c83116-8c33-44f5-a207-116d0a29d19d",
   "metadata": {},
   "source": [
    "method kelimesi bir classın mesala str clasına özel  içindeki bir fonksiyon\n",
    "sadece fonksiyon ise başlı başına farklı bir fonksiyon herhangi bir classa bağlı olmayan"
   ]
  },
  {
   "cell_type": "markdown",
   "id": "d23e61eb-651c-4653-9ebe-1c7ad756c685",
   "metadata": {},
   "source": [
    "str.replace(old,new [, count]) replaces all occurences of old with the new\n",
    "The count argument is optional, and if the optional argument count is given only he first coun occurences are replaced. count maximum number of occurences to replace - (the default value) means replace all olccurences"
   ]
  },
  {
   "cell_type": "markdown",
   "id": "c35ae327-c455-4e1b-a37b-624afa684074",
   "metadata": {},
   "source": [
    "str.swapcase() converts upper case o lower case and vise versa"
   ]
  },
  {
   "cell_type": "markdown",
   "id": "412b4ab2-14bd-45ff-87c1-a6e36b8f5236",
   "metadata": {},
   "source": [
    "str.capitalize() changes the first character of the string to the \n",
    "upper case and the rest to the lower case "
   ]
  },
  {
   "cell_type": "markdown",
   "id": "b7eb27a9-5310-4024-acb9-fc2b860f5ac9",
   "metadata": {},
   "source": [
    "str.upper()\n",
    "str.lower()\n",
    "str.title() converts the first character of EACH word to upper case and the others lower case"
   ]
  },
  {
   "cell_type": "markdown",
   "id": "60f0a04f-f185-4829-a089-724e138db916",
   "metadata": {},
   "source": [
    "string.method1().method2().method3()...\n",
    "sırasıyla 1-2 ve 3. methodları uygulayarak devam eder"
   ]
  },
  {
   "cell_type": "code",
   "execution_count": 2,
   "id": "37149881-9e1c-4c38-97ff-8cd3a891ca2a",
   "metadata": {},
   "outputs": [
    {
     "data": {
      "text/plain": [
       "'xbcdxxxxxdddddxdddxdxsdddddddddddddddxxxxxx'"
      ]
     },
     "execution_count": 2,
     "metadata": {},
     "output_type": "execute_result"
    }
   ],
   "source": [
    "text = \"abcdaaaaadddddadddadasdddddddddddddddaaaaaa\"\n",
    "text.replace(\"a\",\"x\")  # count göndermedık hepsini değişti"
   ]
  },
  {
   "cell_type": "code",
   "execution_count": 4,
   "id": "ad31ab73-e83b-446a-8a77-94735d3cc887",
   "metadata": {},
   "outputs": [
    {
     "data": {
      "text/plain": [
       "'xbcdxxxxadddddadddadasdddddddddddddddaaaaaa'"
      ]
     },
     "execution_count": 4,
     "metadata": {},
     "output_type": "execute_result"
    }
   ],
   "source": [
    "text.replace(\"a\",\"x\", 5)"
   ]
  },
  {
   "cell_type": "code",
   "execution_count": 7,
   "id": "e61f8964-e036-4585-aaf9-3495da17adb3",
   "metadata": {},
   "outputs": [
    {
     "name": "stdout",
     "output_type": "stream",
     "text": [
      "['abckr', 'trysjhg', 'yşruokklsh', 'fçalsadshd', 'dkoasas']\n",
      "Abckr  Trysjhg  Yşruokklsh  Fçalsadshd  Dkoasas  "
     ]
    }
   ],
   "source": [
    "txt =\"abckr trysjhg yşruokklsh fçalsadshd dkoasas\"\n",
    "txt1 = txt.split(\" \")\n",
    "for i in txt1 :\n",
    "    print(i.strip().capitalize()+\" \",end=\" \") #### replace metodu yerine yapılmıs döngu"
   ]
  },
  {
   "cell_type": "code",
   "execution_count": 16,
   "id": "229e748d-1539-4697-a17d-de7e3f3a9302",
   "metadata": {},
   "outputs": [
    {
     "data": {
      "text/plain": [
       "['abcd efgh ijklmn oöprs ştü']"
      ]
     },
     "execution_count": 16,
     "metadata": {},
     "output_type": "execute_result"
    }
   ],
   "source": [
    "deneme = \"abcd efgh ijklmn oöprs ştü\"\n",
    "deneme1 = deneme.split(\" \")\n",
    "deneme1\n"
   ]
  },
  {
   "cell_type": "code",
   "execution_count": 13,
   "id": "e7b67549-3d5e-4a21-b804-09d5d6f959a5",
   "metadata": {},
   "outputs": [
    {
     "name": "stdout",
     "output_type": "stream",
     "text": [
      " TEST CÜMLESI\n",
      " TEST CÜMLESI\n"
     ]
    }
   ],
   "source": [
    "tst =\" test cümlesi\"\n",
    "print(tst.swapcase())\n",
    "print(str.swapcase(tst))  # str ile de yapılabilir str özel bi method aynı sonuc"
   ]
  },
  {
   "cell_type": "code",
   "execution_count": 19,
   "id": "f303a545-eedd-4075-9d26-9c725bd72145",
   "metadata": {},
   "outputs": [
    {
     "name": "stdout",
     "output_type": "stream",
     "text": [
      "Sodome and Gomore\n"
     ]
    }
   ],
   "source": [
    "yazı =\"S0d0me and G0m0re\"\n",
    "yazı = yazı.replace(\"0\", \"o\",-1)\n",
    "print(yazı)"
   ]
  },
  {
   "cell_type": "markdown",
   "id": "48ffea26-9d13-45d6-8041-7480b09e23a8",
   "metadata": {},
   "source": [
    "### EDİTİNG STRİNGS \n",
    "string.strip() : removes all spaces(or specific characters) from both sides\n",
    "string.rstrip() :removes all spaces(or specific characters) from right side\n",
    "string.lstrip() :removes all spaces(or specific characters) from left side"
   ]
  },
  {
   "cell_type": "code",
   "execution_count": 25,
   "id": "1b068d34-35f1-453c-ac37-173bacef3671",
   "metadata": {},
   "outputs": [
    {
     "name": "stdout",
     "output_type": "stream",
     "text": [
      "         başında ve sonunda boşlık olan bir cümle...      \n",
      "başında ve sonunda boşlık olan bir cümle...\n"
     ]
    }
   ],
   "source": [
    "ornek = \"         başında ve sonunda boşlık olan bir cümle...      \"\n",
    "print(ornek)\n",
    "\n",
    "print(ornek.strip())"
   ]
  },
  {
   "cell_type": "code",
   "execution_count": 28,
   "id": "ef7ed910-3043-4887-b386-cfecfd2b773b",
   "metadata": {},
   "outputs": [
    {
     "data": {
      "text/plain": [
       "3"
      ]
     },
     "execution_count": 28,
     "metadata": {},
     "output_type": "execute_result"
    }
   ],
   "source": [
    "yazılar = \"split örneğine bakalım\"\n",
    "hakan1 = yazılar.split() ### split ayırarak lıste halıne getirdi\n",
    "len(hakan1)\n"
   ]
  },
  {
   "cell_type": "code",
   "execution_count": 29,
   "id": "46c52127-2037-4b1a-ad7d-9d3182fa91b5",
   "metadata": {},
   "outputs": [
    {
     "name": "stdout",
     "output_type": "stream",
     "text": [
      "nteroparabilit\n"
     ]
    }
   ],
   "source": [
    "örnek = \"interoparability\"\n",
    "print(örnek.strip(\"yi\")) ### başta ve sondaki i ve y yi sildi"
   ]
  },
  {
   "cell_type": "code",
   "execution_count": 36,
   "id": "0ec7d059-21db-4989-8e2a-792e4b7851e9",
   "metadata": {},
   "outputs": [
    {
     "name": "stdout",
     "output_type": "stream",
     "text": [
      "teroparabilit\n"
     ]
    }
   ],
   "source": [
    "örnek = \"interoparability\"\n",
    "print(örnek.strip(\"yin\")) # removes y or i or yi or iy from bothsides"
   ]
  },
  {
   "cell_type": "code",
   "execution_count": 38,
   "id": "db1a5628-cc58-400c-a923-9ce07da396c6",
   "metadata": {},
   "outputs": [
    {
     "name": "stdout",
     "output_type": "stream",
     "text": [
      "nteroparability\n"
     ]
    }
   ],
   "source": [
    "örnek = \"interoparability\"\n",
    "print(örnek.strip(\"it\"))   # baştaki i yi attı "
   ]
  },
  {
   "cell_type": "code",
   "execution_count": 40,
   "id": "7f44d0bb-b2b1-4700-8d74-7d8c5f6505ad",
   "metadata": {},
   "outputs": [
    {
     "name": "stdout",
     "output_type": "stream",
     "text": [
      "nteroparabil\n",
      "nteroparabil\n"
     ]
    }
   ],
   "source": [
    "örnek = \"interoparability\"\n",
    "print(örnek.strip(\"ity\")) # sondaki ity yi attı\n",
    "print(örnek.strip(\"yti\")) # sondaki ity yi attı ama sırasına bakmadan yaptı"
   ]
  },
  {
   "cell_type": "code",
   "execution_count": 41,
   "id": "e308b01a-ecc5-42bb-b32d-399c6baf9082",
   "metadata": {},
   "outputs": [
    {
     "name": "stdout",
     "output_type": "stream",
     "text": [
      "teroparability\n"
     ]
    }
   ],
   "source": [
    "örnek = \"interoparability\"\n",
    "print(örnek.lstrip(\"in\"))"
   ]
  },
  {
   "cell_type": "code",
   "execution_count": 42,
   "id": "eedb251c-e078-4087-b6fb-9294df095c30",
   "metadata": {},
   "outputs": [
    {
     "name": "stdout",
     "output_type": "stream",
     "text": [
      "eroparability\n"
     ]
    }
   ],
   "source": [
    "örnek = \"interoparability\"\n",
    "print(örnek.lstrip(\"inyt\"))"
   ]
  },
  {
   "cell_type": "code",
   "execution_count": 43,
   "id": "8d88b01e-f21f-4a15-898a-ee360cab7a31",
   "metadata": {},
   "outputs": [
    {
     "name": "stdout",
     "output_type": "stream",
     "text": [
      "interoparabil\n"
     ]
    }
   ],
   "source": [
    "örnek = \"interoparability\"\n",
    "print(örnek.rstrip(\"inyt\"))"
   ]
  },
  {
   "cell_type": "code",
   "execution_count": 44,
   "id": "5d143b57-22e4-41dd-ae91-8f9aa194e532",
   "metadata": {},
   "outputs": [
    {
     "name": "stdout",
     "output_type": "stream",
     "text": [
      "         başında ve sonunda boşlık olan bir cümle...      \n",
      "başında ve sonunda boşlık olan bir cümle...\n",
      "         başında ve sonunda boşlık olan bir cümle...\n",
      "başında ve sonunda boşlık olan bir cümle...      \n"
     ]
    }
   ],
   "source": [
    "ornek = \"         başında ve sonunda boşlık olan bir cümle...      \"\n",
    "print(ornek)\n",
    "\n",
    "print(ornek.strip())\n",
    "print(ornek.rstrip())\n",
    "print(ornek.lstrip())"
   ]
  },
  {
   "cell_type": "code",
   "execution_count": 55,
   "id": "1de3d10d-b83d-4760-92bd-f7c3c2041035",
   "metadata": {},
   "outputs": [
    {
     "name": "stdout",
     "output_type": "stream",
     "text": [
      "         başında ve sonunda boşlık olan bir cümle...      \n",
      "başında ve sonunda boşlık olan bir cüm\n",
      "         başında ve sonunda boşlık olan bir cümle...\n",
      "başında ve sonunda boşlık olan bir cümle...      \n"
     ]
    }
   ],
   "source": [
    "ornek = \"         başında ve sonunda boşlık olan bir cümle...      \"\n",
    "print(ornek)\n",
    "\n",
    "print(ornek.strip(\"le... \"))\n",
    "print(ornek.rstrip())\n",
    "print(ornek.lstrip())"
   ]
  },
  {
   "cell_type": "code",
   "execution_count": 63,
   "id": "701b50d0-16c7-4303-b7c1-b0e6fca2a5d9",
   "metadata": {},
   "outputs": [
    {
     "name": "stdout",
     "output_type": "stream",
     "text": [
      "YOU CAN LEARN ALMOST EVERYTHING IN PRE-CLASS\n",
      "YOU CAN LEARN ALMOST EVERYTHING IN PRE-CLASS\n"
     ]
    }
   ],
   "source": [
    "tex='tyou can learn almost everything in pre-classz'\n",
    "print(tex.strip('tz').upper())\n",
    "print(tex.upper().strip('TZ'))"
   ]
  },
  {
   "cell_type": "code",
   "execution_count": 71,
   "id": "9b82eb7c-0ce6-44a4-a459-f07b7c37b579",
   "metadata": {},
   "outputs": [
    {
     "name": "stdout",
     "output_type": "stream",
     "text": [
      "In God We Trust\n",
      "In God We Trust\n",
      "In God We Trust\n",
      "In God We Trust\n",
      "In God WWWe Trust\n"
     ]
    }
   ],
   "source": [
    "son =\"In God wee Trust\"\n",
    "print(son.replace(\"wee\",\"we\").title())\n",
    "print(son.replace(\"e\",\"\",1).title())\n",
    "print(son.replace(\"wee\",\"we\").title())\n",
    "print(son.replace(\"ee\",\"e\").title())\n",
    "print(son.replace(\"wee\",\"we\").replace(\"w\",\"WWW\"))\n"
   ]
  },
  {
   "cell_type": "code",
   "execution_count": 73,
   "id": "db722bb8-4f4c-4807-aa98-6491492b5b5d",
   "metadata": {},
   "outputs": [
    {
     "name": "stdout",
     "output_type": "stream",
     "text": [
      "In God we Trust\n"
     ]
    }
   ],
   "source": [
    "son =\"In God wee Trust\"\n",
    "son1 = son[:9]\n",
    "son2 = son[10:]\n",
    "print(son1+son2)"
   ]
  },
  {
   "cell_type": "code",
   "execution_count": null,
   "id": "bae9e249-89dc-4f29-9516-8a2aabee7143",
   "metadata": {},
   "outputs": [],
   "source": [
    "--allow-chromium-download"
   ]
  },
  {
   "cell_type": "code",
   "execution_count": null,
   "id": "2b75a409-9aad-4ce5-ba1c-40064912e15a",
   "metadata": {},
   "outputs": [],
   "source": [
    "pandoc -o output.html input.txt"
   ]
  },
  {
   "cell_type": "code",
   "execution_count": null,
   "id": "a01cd078-2845-4c9c-8af5-a0a2f1bb47af",
   "metadata": {},
   "outputs": [],
   "source": []
  }
 ],
 "metadata": {
  "kernelspec": {
   "display_name": "Python 3",
   "language": "python",
   "name": "python3"
  },
  "language_info": {
   "codemirror_mode": {
    "name": "ipython",
    "version": 3
   },
   "file_extension": ".py",
   "mimetype": "text/x-python",
   "name": "python",
   "nbconvert_exporter": "python",
   "pygments_lexer": "ipython3",
   "version": "3.9.4"
  }
 },
 "nbformat": 4,
 "nbformat_minor": 5
}
