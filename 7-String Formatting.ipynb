{
 "cells": [
  {
   "cell_type": "markdown",
   "id": "f9ded473-0ffa-41ad-86cb-ea8c8f5f6877",
   "metadata": {},
   "source": [
    "STRİNG FORMATTİNG .format() METHODU\n",
    "\"string {} string {} string {}\".format(data1, data2)\n",
    "data1 ve data2 positional argument yanı verinin ya da değişkenin kendisi\n",
    "Positional argumentlar keyword argumentlerden önce gelmeli\n"
   ]
  },
  {
   "cell_type": "code",
   "execution_count": 1,
   "id": "b3f3a340-5f81-49cb-aecc-60c36ab932b6",
   "metadata": {},
   "outputs": [
    {
     "name": "stdout",
     "output_type": "stream",
     "text": [
      "12-Feb-Feb\n"
     ]
    }
   ],
   "source": [
    "print(\"{}-{}-{}\".format(\"12\",\"Feb\",\"Feb\"))"
   ]
  },
  {
   "cell_type": "code",
   "execution_count": 3,
   "id": "e5014722-f7e8-4e1c-996b-3042a21e9540",
   "metadata": {},
   "outputs": [
    {
     "name": "stdout",
     "output_type": "stream",
     "text": [
      "12-Feb-Feb\n"
     ]
    }
   ],
   "source": [
    "print(\"{no}-{month}-{month}\".format(no = \"12\",month =\"Feb\"))\n",
    "# burada month = Feb dedik ve stringdeki 2 adet suslu parenteze atamıs olduk\n"
   ]
  },
  {
   "cell_type": "code",
   "execution_count": 4,
   "id": "e87b5d9b-710e-4b94-a797-1450ff4aba9f",
   "metadata": {},
   "outputs": [
    {
     "name": "stdout",
     "output_type": "stream",
     "text": [
      "I will have started a new job in 6 months\n"
     ]
    }
   ],
   "source": [
    "print(\"{6} {5} {0} {1} {3} {4} {2}\".format(\"a new\",\"job\",\"months\",\"in\", 6, \"have started\",\"I will\"))\n",
    "# buradada ındex numaralarına göre işlem yaptık"
   ]
  },
  {
   "cell_type": "code",
   "execution_count": 6,
   "id": "88185459-efc5-4257-8fca-cfbb5b04ffe8",
   "metadata": {},
   "outputs": [
    {
     "name": "stdout",
     "output_type": "stream",
     "text": [
      "generosity wins in all circumstances\n"
     ]
    }
   ],
   "source": [
    "phrase = \"{2} {3} {1} {0}\".format('circumstances', 'in all', 'generosity', 'wins')\n",
    "print(phrase)"
   ]
  },
  {
   "cell_type": "code",
   "execution_count": 23,
   "id": "f8abb811-aa2b-4fef-9d54-3ff1cdc30249",
   "metadata": {},
   "outputs": [
    {
     "name": "stdout",
     "output_type": "stream",
     "text": [
      "circumstances in all generosity wins\n"
     ]
    }
   ],
   "source": [
    "phrase = \"{} {} {} {}\".format('circumstances', 'in all', 'generosity', 'wins')\n",
    "print(phrase)\n",
    "#ındex numarasını 1 tane  girince hata veriyor"
   ]
  },
  {
   "cell_type": "code",
   "execution_count": 17,
   "id": "477930df-b475-49f1-8819-3f9e35e01fc0",
   "metadata": {
    "tags": []
   },
   "outputs": [
    {
     "ename": "KeyError",
     "evalue": "'morality'",
     "output_type": "error",
     "traceback": [
      "\u001b[1;31m---------------------------------------------------------------------------\u001b[0m",
      "\u001b[1;31mKeyError\u001b[0m                                  Traceback (most recent call last)",
      "\u001b[1;32m<ipython-input-17-8fd0f51532d6>\u001b[0m in \u001b[0;36m<module>\u001b[1;34m\u001b[0m\n\u001b[0;32m      1\u001b[0m \u001b[0mcondition\u001b[0m \u001b[1;33m=\u001b[0m \u001b[1;34m'circumstances'\u001b[0m\u001b[1;33m\u001b[0m\u001b[1;33m\u001b[0m\u001b[0m\n\u001b[0;32m      2\u001b[0m \u001b[0mmorality\u001b[0m \u001b[1;33m=\u001b[0m \u001b[1;34m'generosity'\u001b[0m\u001b[1;33m\u001b[0m\u001b[1;33m\u001b[0m\u001b[0m\n\u001b[1;32m----> 3\u001b[1;33m \u001b[0mphrase1\u001b[0m \u001b[1;33m=\u001b[0m \u001b[1;34m\"{morality} {1} {0} {condition} \"\u001b[0m\u001b[1;33m.\u001b[0m\u001b[0mformat\u001b[0m\u001b[1;33m(\u001b[0m\u001b[1;34m\"in all\"\u001b[0m\u001b[1;33m,\u001b[0m \u001b[1;34m\"wins\"\u001b[0m\u001b[1;33m)\u001b[0m\u001b[1;33m\u001b[0m\u001b[1;33m\u001b[0m\u001b[0m\n\u001b[0m",
      "\u001b[1;31mKeyError\u001b[0m: 'morality'"
     ]
    }
   ],
   "source": [
    "condition = 'circumstances'\n",
    "morality = 'generosity'\n",
    "phrase1 = \"{morality} {1} {0} {condition} \".format(\"in all\", \"wins\")"
   ]
  },
  {
   "cell_type": "code",
   "execution_count": 21,
   "id": "a54f5b8a-918f-4698-b7de-c4fa3bcf8715",
   "metadata": {},
   "outputs": [
    {
     "name": "stdout",
     "output_type": "stream",
     "text": [
      "generosity wins in all circumstances \n"
     ]
    }
   ],
   "source": [
    "condition = 'circumstances'\n",
    "morality = 'generosity'\n",
    "phrase1 = \"{morality} {1} {0} {condition} \".format(\"in all\", \"wins\", condition = 'circumstances', morality = 'generosity' )\n",
    "print(phrase1)"
   ]
  },
  {
   "cell_type": "code",
   "execution_count": 26,
   "id": "505df529-e465-4f4c-ac76-f56006413df6",
   "metadata": {},
   "outputs": [
    {
     "name": "stdout",
     "output_type": "stream",
     "text": [
      "generosity wins in all circumstances \n"
     ]
    }
   ],
   "source": [
    "condition = 'circumstances'\n",
    "morality = 'generosity'\n",
    "phrase1 = \"{morality} {} {} {condition} \".format(\"wins\", \"in all\",\\\n",
    "                                                 condition = 'circumstances', morality = 'generosity' )\n",
    "print(phrase1)\n",
    "# burada positional argumentslerın yerini değiştirdik.index nolarını değiştik\n",
    "# in all ile wins ı yer degıstırdık kı anlamlı cumle kuralım"
   ]
  },
  {
   "cell_type": "markdown",
   "id": "1fe21eae-02bd-4a99-9d7d-c4eccf38b262",
   "metadata": {},
   "source": [
    "### F-STRİNG\n",
    "f'string {variable} string {variable} string'"
   ]
  },
  {
   "cell_type": "code",
   "execution_count": 28,
   "id": "3e86876f-7ab1-4511-915c-866ac968a9c1",
   "metadata": {},
   "outputs": [
    {
     "name": "stdout",
     "output_type": "stream",
     "text": [
      "The amount of orange and Tomato we bought are totally 6 pounds\n"
     ]
    }
   ],
   "source": [
    "fruit = 'orange'\n",
    "vegetable = 'Tomato'\n",
    "amount = 6\n",
    "output = f\"The amount of {fruit} and {vegetable} we bought are totally {amount} pounds\"\n",
    "print(output)"
   ]
  },
  {
   "cell_type": "code",
   "execution_count": 31,
   "id": "7f5421fe-6445-4645-bff5-8d70ae6f4a09",
   "metadata": {},
   "outputs": [
    {
     "name": "stdout",
     "output_type": "stream",
     "text": [
      "8\n"
     ]
    }
   ],
   "source": [
    "sample = f\"{2**3}\"\n",
    "print(sample)  # süslü parantez içinde aritmetik operasyon yapmıs olduk"
   ]
  },
  {
   "cell_type": "code",
   "execution_count": 40,
   "id": "2a585e28-5080-4308-a6f8-22ebc68cdc57",
   "metadata": {},
   "outputs": [
    {
     "name": "stdout",
     "output_type": "stream",
     "text": [
      "My Name is Mariam\n"
     ]
    }
   ],
   "source": [
    "name =\"MARIAM\"\n",
    "print(f\"My Name is {name.capitalize()}\")"
   ]
  },
  {
   "cell_type": "code",
   "execution_count": 43,
   "id": "67aeb341-5ed8-4b4e-9bdf-105607f493f9",
   "metadata": {},
   "outputs": [
    {
     "data": {
      "text/plain": [
       "'benim 11 elmam 22 armutum \\n 33 portakalım var'"
      ]
     },
     "execution_count": 43,
     "metadata": {},
     "output_type": "execute_result"
    }
   ],
   "source": [
    "a = 11\n",
    "b = 22\n",
    "c = 33\n",
    "\n",
    "cıktı = (\n",
    "    f\"benim {a} elmam\"\n",
    "    f\" {b} armutum \\n\"\n",
    "    f\" {c} portakalım var\"\n",
    ")\n",
    "cıktı\n"
   ]
  },
  {
   "cell_type": "code",
   "execution_count": 44,
   "id": "6d6643c9-ffc6-4eba-b5b3-c4ad18960a43",
   "metadata": {},
   "outputs": [
    {
     "name": "stdout",
     "output_type": "stream",
     "text": [
      "benim 11 elmam 22 armutum \n",
      " 33 portakalım var\n"
     ]
    }
   ],
   "source": [
    "a = 11\n",
    "b = 22\n",
    "c = 33\n",
    "\n",
    "cıktı = (\n",
    "    f\"benim {a} elmam\"\n",
    "    f\" {b} armutum \\n\"\n",
    "    f\" {c} portakalım var\"\n",
    ")\n",
    "print(cıktı)  # print ile cıktı alırsak \\ new line \\n alt satıra gecebiliyoruz"
   ]
  },
  {
   "cell_type": "code",
   "execution_count": 48,
   "id": "56dbd4c9-b429-4035-8994-d4d1da8fd40e",
   "metadata": {},
   "outputs": [
    {
     "name": "stdout",
     "output_type": "stream",
     "text": [
      "benim 11 elmam 22 armutum \n",
      " 33 portakalım var\n"
     ]
    }
   ],
   "source": [
    "a = 11\n",
    "b = 22\n",
    "c = 33\n",
    "\n",
    "cıktı = f\"benim {a} elmam\" \\\n",
    "    f\" {b} armutum \\n\" \\\n",
    "    f\" {c} portakalım var\"\n",
    "print(cıktı)\n",
    "     # burada da ters slash ısaretı kllanıp parantezleri kullanmadık"
   ]
  },
  {
   "cell_type": "markdown",
   "id": "f845f294-e6d4-41ef-8d64-92a2d40af04d",
   "metadata": {},
   "source": [
    "### MAIN STRİNG OPERATIONS"
   ]
  },
  {
   "cell_type": "markdown",
   "id": "e3035a0c-1318-440b-a4ff-21f002201946",
   "metadata": {},
   "source": [
    "immutable = değiştirilemezlik"
   ]
  },
  {
   "cell_type": "code",
   "execution_count": 49,
   "id": "d043ec93-5c83-45b3-bb25-16da1305b00d",
   "metadata": {},
   "outputs": [],
   "source": [
    "değişken1 =\"Clarusway\""
   ]
  },
  {
   "cell_type": "code",
   "execution_count": 50,
   "id": "c4fdb362-1658-47bb-beb3-1f0416745a18",
   "metadata": {},
   "outputs": [
    {
     "data": {
      "text/plain": [
       "'CLARUSWAY'"
      ]
     },
     "execution_count": 50,
     "metadata": {},
     "output_type": "execute_result"
    }
   ],
   "source": [
    "değişken1.upper() # biz burada cıktı aldık. değişken1 'i değiştirmedik'"
   ]
  },
  {
   "cell_type": "code",
   "execution_count": 51,
   "id": "e550db62-0823-4f33-8ed4-2ca60bc2a49a",
   "metadata": {},
   "outputs": [
    {
     "data": {
      "text/plain": [
       "'Clarusway'"
      ]
     },
     "execution_count": 51,
     "metadata": {},
     "output_type": "execute_result"
    }
   ],
   "source": [
    "değişken1  # hala küçük harflerle kaldı. \n",
    "           ### bunu değiştirmek için başka bir değişkene atamak lazım"
   ]
  },
  {
   "cell_type": "code",
   "execution_count": 53,
   "id": "e2deabc7-cf6d-4df8-a416-173d1f979210",
   "metadata": {},
   "outputs": [
    {
     "data": {
      "text/plain": [
       "'CLARUSWAY'"
      ]
     },
     "execution_count": 53,
     "metadata": {},
     "output_type": "execute_result"
    }
   ],
   "source": [
    "değişken2= değişken1.upper()\n",
    "değişken2   # başka bir değişkene atayarak ımmutable olmasını değiştirdik"
   ]
  },
  {
   "cell_type": "markdown",
   "id": "eabed5e5-e7cc-41ca-a1fa-a5622ca10fa1",
   "metadata": {},
   "source": [
    "### SEARCHİNG STRİNG\n",
    "### string.startswith(prefix[, start[, end]])\n",
    "### string.endswith(suffix[, start[, end]])\n",
    "\n",
    "Bir patternı stringin basında veya sonunda aramaya bulmaya çalısan methodlar\n",
    "sonucu boolean olarak verir\n"
   ]
  },
  {
   "cell_type": "code",
   "execution_count": 57,
   "id": "b88c2012-2536-4206-b23b-c54f1d63f1de",
   "metadata": {},
   "outputs": [
    {
     "name": "stdout",
     "output_type": "stream",
     "text": [
      "True\n",
      "False\n"
     ]
    }
   ],
   "source": [
    "text =\"www.clarusway.com\"\n",
    "print(text.endswith('.com'))\n",
    "print(text.startswith('http:'))"
   ]
  },
  {
   "cell_type": "code",
   "execution_count": 76,
   "id": "27af5def-965e-4802-808d-62c1b3090ac7",
   "metadata": {},
   "outputs": [
    {
     "name": "stdout",
     "output_type": "stream",
     "text": [
      "False\n",
      "False\n"
     ]
    }
   ],
   "source": [
    "text = \"www.clarusway.com\"\n",
    "print(text.endswith('co'))\n",
    "print(text.startswith('w.'))"
   ]
  },
  {
   "cell_type": "code",
   "execution_count": 74,
   "id": "f691de87-bbb5-406f-8135-a2856bab1e7a",
   "metadata": {},
   "outputs": [
    {
     "name": "stdout",
     "output_type": "stream",
     "text": [
      "True\n",
      "True\n"
     ]
    }
   ],
   "source": [
    "email= \"clarusway@clarusway.com is my e-mail adress\"\n",
    "print(email.startswith(\"@\",9))\n",
    "print(email.startswith(\"\",10,32))\n",
    "## index no 9 olandan başla 9. index te @ war mı ==war\n",
    "## index no 10 dan başla 31. indexe kadar ara \n",
    "## 31. indekte (-) tire işareti var mı\n",
    "## 40. indexte de yazsak true verecek yanı o aralıkta bu karakter war mı dıye soruyoruz\n"
   ]
  },
  {
   "cell_type": "code",
   "execution_count": 59,
   "id": "cdf5c3c8-e569-468b-b1fa-09ea0fde2221",
   "metadata": {},
   "outputs": [
    {
     "name": "stdout",
     "output_type": "stream",
     "text": [
      "What Is Soul\n"
     ]
    }
   ],
   "source": [
    "deyim = 'What is Soul'\n",
    "print(deyim.upper().swapcase().title())\n",
    "### hepsi buyuk yapılanı swap ıle tersıne cevırdık\n",
    "\n",
    "# title metodu her kelımenın ılk harfını buyuk yapıyor. \n",
    "### arada bosluk olan her sey kelimedir python ıcın "
   ]
  },
  {
   "cell_type": "code",
   "execution_count": 64,
   "id": "ab61bad7-370e-4ece-85f6-40f8c2b4a18a",
   "metadata": {},
   "outputs": [
    {
     "name": "stdout",
     "output_type": "stream",
     "text": [
      "What Is Feelings\n"
     ]
    }
   ],
   "source": [
    "deyim2 = 'What is Soul'\n",
    "deyim3= deyim2.replace('Soul', 'feeliNGS')\n",
    "print(deyim3.title())\n",
    "\n",
    "### replace (solda gördugunu sağdaki ile yer değiştirir)\n",
    "### replace ( 'sol', 'sağ')"
   ]
  },
  {
   "cell_type": "code",
   "execution_count": null,
   "id": "709ad663-9a58-4ed1-8dcc-2fc83b772f0a",
   "metadata": {},
   "outputs": [],
   "source": [
    "### strip metodu\n",
    "string.strip() içine yazılanı stringden ayırıyor.removeluyor"
   ]
  },
  {
   "cell_type": "code",
   "execution_count": 67,
   "id": "c731160c-27b6-4c26-b9e4-c6e66a46bbed",
   "metadata": {},
   "outputs": [
    {
     "name": "stdout",
     "output_type": "stream",
     "text": [
      "['Ta', '']\n"
     ]
    }
   ],
   "source": [
    "hakan ='Tabaş'\n",
    "print(hakan.split('baş'))"
   ]
  },
  {
   "cell_type": "raw",
   "id": "87a26d33-abbd-406e-b33e-0a7ab8cdb549",
   "metadata": {},
   "source": []
  },
  {
   "cell_type": "markdown",
   "id": "8595e946-c354-4adb-9afe-e9e131346ab0",
   "metadata": {},
   "source": [
    "### CHANGİNG STRİNG\n",
    "string.method(arguments)"
   ]
  },
  {
   "cell_type": "code",
   "execution_count": null,
   "id": "e0f2ec13-af59-4564-8fb1-936b38252b46",
   "metadata": {},
   "outputs": [],
   "source": [
    "### Assignment 1 çözümü"
   ]
  },
  {
   "cell_type": "code",
   "execution_count": 103,
   "id": "f613b5e0-f5ca-4055-ba91-d32dee38dded",
   "metadata": {},
   "outputs": [],
   "source": [
    "para = 1000"
   ]
  },
  {
   "cell_type": "code",
   "execution_count": 96,
   "id": "1037f9bc-366a-415b-9a67-fc93c68001ed",
   "metadata": {},
   "outputs": [
    {
     "data": {
      "text/plain": [
       "1605.78147647843"
      ]
     },
     "execution_count": 96,
     "metadata": {},
     "output_type": "execute_result"
    }
   ],
   "source": [
    "para = para * 0.07 + para  # pazartesi\n",
    "para += para * 0.07   # sali\n",
    "para += para * 0.07   # carsamba\n",
    "para += para * 0.07   # persembe\n",
    "para += para * 0.07   # cuma\n",
    "para += para * 0.07   # cumartesi\n",
    "para += para * 0.07   #pazar\n",
    "para\n"
   ]
  },
  {
   "cell_type": "code",
   "execution_count": 104,
   "id": "0ca6dd90-c046-4c98-80ce-a158950e9a16",
   "metadata": {},
   "outputs": [
    {
     "data": {
      "text/plain": [
       "1605.7814764784307"
      ]
     },
     "execution_count": 104,
     "metadata": {},
     "output_type": "execute_result"
    }
   ],
   "source": [
    "### para parantezine alarak\n",
    "### para = para* (1+0.07)\n",
    "# para = (para*1.07)\n",
    "# para = ( para *1.07)*1.07\n",
    "#### ....\n",
    "para = para * 1.07**7\n",
    "para\n"
   ]
  },
  {
   "cell_type": "code",
   "execution_count": 1,
   "id": "78b14c25-98fb-4368-9755-48ec0187054a",
   "metadata": {},
   "outputs": [
    {
     "data": {
      "text/plain": [
       "True"
      ]
     },
     "execution_count": 1,
     "metadata": {},
     "output_type": "execute_result"
    }
   ],
   "source": [
    "\n",
    "# asignment 75  yas ustu sigara bagımlıs ölme riski\n",
    "age = True\n",
    "chronic = False\n",
    "immune =False\n",
    "risk = age or chronic or immune\n",
    "risk\n"
   ]
  },
  {
   "cell_type": "code",
   "execution_count": null,
   "id": "38fc2b9f-c44f-41ab-a417-07662d490ff4",
   "metadata": {},
   "outputs": [],
   "source": []
  },
  {
   "cell_type": "code",
   "execution_count": null,
   "id": "a4834c68-dd6f-44d2-806f-aeba245b2765",
   "metadata": {},
   "outputs": [],
   "source": []
  }
 ],
 "metadata": {
  "kernelspec": {
   "display_name": "Python 3",
   "language": "python",
   "name": "python3"
  },
  "language_info": {
   "codemirror_mode": {
    "name": "ipython",
    "version": 3
   },
   "file_extension": ".py",
   "mimetype": "text/x-python",
   "name": "python",
   "nbconvert_exporter": "python",
   "pygments_lexer": "ipython3",
   "version": "3.9.4"
  }
 },
 "nbformat": 4,
 "nbformat_minor": 5
}
