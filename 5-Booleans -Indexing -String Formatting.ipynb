{
 "cells": [
  {
   "cell_type": "markdown",
   "id": "22dbf44c-b3be-40a8-bdb7-77021a8c1333",
   "metadata": {},
   "source": [
    "AND : it evaluates all expressions and returns the LAST exp.if all exp. are evaluted True . otherwise it returns the first value that evaluted False\n",
    "and: hepsi true ise ensondaki TRUE verir. bi tane bile False varsa İlk FALSE ı verir.\n",
    "\n",
    "OR : hepsi false ise en sondakini verir. bi tane bile tru e varsa ilk true\n",
    "\n",
    "NOT : not false =  True /// NOT tRUE= fALSE--- SADECE TRUE VEYA FALSE VERİR. DİĞER OPERTORLER  TRUTHY VE FALSY DE DÖNDÜRÜR\n",
    "\n",
    "İŞLEM ÖNCELİĞİ :::: NOT > AND > OR  (ÖNCE PARANTEZİNİ İÇİNİ YAPAR)\n",
    "\n",
    "1-bool_var = False and not True\n",
    "2- False and False\n",
    "3- False (this is the 1st False at 1)"
   ]
  },
  {
   "cell_type": "code",
   "execution_count": 3,
   "id": "c003cfeb-4992-4e1a-947e-e1a9061ace9a",
   "metadata": {},
   "outputs": [
    {
     "name": "stdout",
     "output_type": "stream",
     "text": [
      "0\n"
     ]
    }
   ],
   "source": [
    "print(1 and 0) ### ilk false ı döndürdü"
   ]
  },
  {
   "cell_type": "code",
   "execution_count": 4,
   "id": "1e14e211-ade8-453b-bb08-3734387ea2ef",
   "metadata": {},
   "outputs": [
    {
     "data": {
      "text/plain": [
       "1"
      ]
     },
     "execution_count": 4,
     "metadata": {},
     "output_type": "execute_result"
    }
   ],
   "source": [
    "3 and 2 and 1   #last True yu verdi."
   ]
  },
  {
   "cell_type": "code",
   "execution_count": 7,
   "id": "9f693adc-bb47-4bc9-9df1-82065db24f79",
   "metadata": {},
   "outputs": [
    {
     "data": {
      "text/plain": [
       "True"
      ]
     },
     "execution_count": 7,
     "metadata": {},
     "output_type": "execute_result"
    }
   ],
   "source": [
    "bool(0)  # bool fonksıyonun ıcıne ne yazarsan \n",
    "bool(\" \")         # Truthy ya da Falsy Oolup olmadıgını veriri"
   ]
  },
  {
   "cell_type": "code",
   "execution_count": 8,
   "id": "b1611753-380f-448d-9bf3-28397466c063",
   "metadata": {},
   "outputs": [
    {
     "data": {
      "text/plain": [
       "True"
      ]
     },
     "execution_count": 8,
     "metadata": {},
     "output_type": "execute_result"
    }
   ],
   "source": [
    "bool(\" \") # dolu string ( yanı boş sapace var) True verir"
   ]
  },
  {
   "cell_type": "code",
   "execution_count": 9,
   "id": "6db60bc1-c100-4eef-851b-f1dfc888b795",
   "metadata": {},
   "outputs": [
    {
     "data": {
      "text/plain": [
       "False"
      ]
     },
     "execution_count": 9,
     "metadata": {},
     "output_type": "execute_result"
    }
   ],
   "source": [
    "bool(\"\") # boş string false "
   ]
  },
  {
   "cell_type": "code",
   "execution_count": 10,
   "id": "8288fe7b-4afe-48f4-ae4c-04419b577712",
   "metadata": {},
   "outputs": [
    {
     "data": {
      "text/plain": [
       "1"
      ]
     },
     "execution_count": 10,
     "metadata": {},
     "output_type": "execute_result"
    }
   ],
   "source": [
    "None or 1"
   ]
  },
  {
   "cell_type": "code",
   "execution_count": null,
   "id": "3febdf3c-e6e2-4e08-94e7-804df887bb90",
   "metadata": {},
   "outputs": [],
   "source": [
    "## INDEXING AND SLİCİING\n",
    "# Bir elemana ulaşmak İndexleme, \n",
    "#birden fazla elemana ulaşma aralığa ulaşma slicing\n",
    "# [start : stop : step]  step = stop -1"
   ]
  },
  {
   "cell_type": "code",
   "execution_count": 14,
   "id": "d431125e-2ad5-480d-9de5-ef1e28c97bc1",
   "metadata": {},
   "outputs": [
    {
     "data": {
      "text/plain": [
       "'lar'"
      ]
     },
     "execution_count": 14,
     "metadata": {},
     "output_type": "execute_result"
    }
   ],
   "source": [
    "\"clarus-way .\"[1:4]"
   ]
  },
  {
   "cell_type": "code",
   "execution_count": 16,
   "id": "de6cee0c-7fdb-4335-b0e3-918eb795de5d",
   "metadata": {},
   "outputs": [
    {
     "data": {
      "text/plain": [
       "'-w'"
      ]
     },
     "execution_count": 16,
     "metadata": {},
     "output_type": "execute_result"
    }
   ],
   "source": [
    "\"clarus-way .\"[6:8]"
   ]
  },
  {
   "cell_type": "code",
   "execution_count": 18,
   "id": "d1b0d8f6-e03c-4046-ba9f-a1d70c77cc4a",
   "metadata": {},
   "outputs": [
    {
     "data": {
      "text/plain": [
       "'ahm'"
      ]
     },
     "execution_count": 18,
     "metadata": {},
     "output_type": "execute_result"
    }
   ],
   "source": [
    "\"ahmet\"[:3]  #3 -1 e kadar git ..0 ,1 ve 2 yi al"
   ]
  },
  {
   "cell_type": "code",
   "execution_count": 19,
   "id": "0e80d509-244a-4a79-9166-8e759504722c",
   "metadata": {},
   "outputs": [
    {
     "name": "stdin",
     "output_type": "stream",
     "text": [
      "Bir sayı gir :  2\n"
     ]
    }
   ],
   "source": [
    "sayı = input(\"Bir sayı gir : \")  #input fonklsyıonu strıng formatında veri alır"
   ]
  },
  {
   "cell_type": "code",
   "execution_count": 22,
   "id": "954254b8-cac4-4e21-bffb-0d39a497e28f",
   "metadata": {},
   "outputs": [
    {
     "name": "stdout",
     "output_type": "stream",
     "text": [
      "2\n",
      "<class 'str'>\n"
     ]
    }
   ],
   "source": [
    "print(sayı)\n",
    "print(type(sayı))"
   ]
  },
  {
   "cell_type": "code",
   "execution_count": 23,
   "id": "9d58d3a3-38f2-4313-86f7-1b4c02a7e169",
   "metadata": {},
   "outputs": [
    {
     "name": "stdin",
     "output_type": "stream",
     "text": [
      "ilk sayıyı giriniz :  4\n",
      "ikinci sayıyı giriniz :  2\n"
     ]
    },
    {
     "name": "stdout",
     "output_type": "stream",
     "text": [
      "iki sayının toplamı  42\n"
     ]
    }
   ],
   "source": [
    "a = input(\"ilk sayıyı giriniz : \")\n",
    "b = input(\"ikinci sayıyı giriniz : \")\n",
    "print(\"iki sayının toplamı \", a + b)"
   ]
  },
  {
   "cell_type": "code",
   "execution_count": 24,
   "id": "d79320cd-bd3a-414b-9cdf-5b3c243f42f0",
   "metadata": {},
   "outputs": [
    {
     "name": "stdin",
     "output_type": "stream",
     "text": [
      "ilk sayıyı giriniz :  4\n",
      "ikinci sayıyı giriniz :  2\n"
     ]
    },
    {
     "name": "stdout",
     "output_type": "stream",
     "text": [
      "iki sayının toplamı  6\n"
     ]
    }
   ],
   "source": [
    "a = input(\"ilk sayıyı giriniz : \")\n",
    "b = input(\"ikinci sayıyı giriniz : \")\n",
    "print(\"iki sayının toplamı \", int(a) + int(b))"
   ]
  },
  {
   "cell_type": "code",
   "execution_count": null,
   "id": "ca52ed6f-0994-4668-adb8-1e880dc8717e",
   "metadata": {},
   "outputs": [],
   "source": []
  }
 ],
 "metadata": {
  "kernelspec": {
   "display_name": "Python 3",
   "language": "python",
   "name": "python3"
  },
  "language_info": {
   "codemirror_mode": {
    "name": "ipython",
    "version": 3
   },
   "file_extension": ".py",
   "mimetype": "text/x-python",
   "name": "python",
   "nbconvert_exporter": "python",
   "pygments_lexer": "ipython3",
   "version": "3.9.4"
  }
 },
 "nbformat": 4,
 "nbformat_minor": 5
}
